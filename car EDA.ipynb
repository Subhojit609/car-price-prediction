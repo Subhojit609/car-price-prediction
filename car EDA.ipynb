{
 "cells": [
  {
   "cell_type": "markdown",
   "id": "b75bff05",
   "metadata": {},
   "source": [
    "#                                 Car Price Prediction Notebook"
   ]
  },
  {
   "cell_type": "markdown",
   "id": "67cdbf3e",
   "metadata": {},
   "source": [
    "- Dataset:https://www.kaggle.com/datasets/deepcontractor/car-price-prediction-challenge/discussion/335871"
   ]
  },
  {
   "cell_type": "markdown",
   "id": "c054353a",
   "metadata": {},
   "source": [
    "### Dataset Description\n",
    "- CSV file - 19237 rows x 18 columns (Includes Price Columns as Target)\n",
    "\n",
    "### Attributes\n",
    "- ID\n",
    "- Price: price of the care(Target Column)\n",
    "- Levy\n",
    "- Manufacturer\n",
    "- Model\n",
    "- Prod. year\n",
    "- Category\n",
    "- Leather interior\n",
    "- Fuel type\n",
    "- Engine volume\n",
    "- Mileage\n",
    "- Cylinders\n",
    "- Gear box type\n",
    "- Drive wheels\n",
    "- Doors\n",
    "- Wheel\n",
    "- Color\n",
    "- Airbags"
   ]
  },
  {
   "cell_type": "markdown",
   "id": "f0e95208",
   "metadata": {},
   "source": [
    "# Import necessary libraries"
   ]
  },
  {
   "cell_type": "code",
   "execution_count": 1,
   "id": "16225aaa",
   "metadata": {},
   "outputs": [],
   "source": [
    "import numpy as np\n",
    "import pandas as pd\n",
    "import matplotlib.pyplot as plt\n",
    "import seaborn as sns\n",
    "%matplotlib inline"
   ]
  },
  {
   "cell_type": "markdown",
   "id": "e1066dfd",
   "metadata": {},
   "source": [
    "## Import the CSV Data as Pandas DataFrame"
   ]
  },
  {
   "cell_type": "code",
   "execution_count": 7,
   "id": "00db7a60",
   "metadata": {},
   "outputs": [
    {
     "data": {
      "text/html": [
       "<div>\n",
       "<style scoped>\n",
       "    .dataframe tbody tr th:only-of-type {\n",
       "        vertical-align: middle;\n",
       "    }\n",
       "\n",
       "    .dataframe tbody tr th {\n",
       "        vertical-align: top;\n",
       "    }\n",
       "\n",
       "    .dataframe thead th {\n",
       "        text-align: right;\n",
       "    }\n",
       "</style>\n",
       "<table border=\"1\" class=\"dataframe\">\n",
       "  <thead>\n",
       "    <tr style=\"text-align: right;\">\n",
       "      <th></th>\n",
       "      <th>ID</th>\n",
       "      <th>Price</th>\n",
       "      <th>Levy</th>\n",
       "      <th>Manufacturer</th>\n",
       "      <th>Model</th>\n",
       "      <th>Prod. year</th>\n",
       "      <th>Category</th>\n",
       "      <th>Leather interior</th>\n",
       "      <th>Fuel type</th>\n",
       "      <th>Engine volume</th>\n",
       "      <th>Mileage</th>\n",
       "      <th>Cylinders</th>\n",
       "      <th>Gear box type</th>\n",
       "      <th>Drive wheels</th>\n",
       "      <th>Doors</th>\n",
       "      <th>Wheel</th>\n",
       "      <th>Color</th>\n",
       "      <th>Airbags</th>\n",
       "    </tr>\n",
       "  </thead>\n",
       "  <tbody>\n",
       "    <tr>\n",
       "      <th>0</th>\n",
       "      <td>45654403</td>\n",
       "      <td>13328</td>\n",
       "      <td>1399</td>\n",
       "      <td>LEXUS</td>\n",
       "      <td>RX 450</td>\n",
       "      <td>2010</td>\n",
       "      <td>Jeep</td>\n",
       "      <td>Yes</td>\n",
       "      <td>Hybrid</td>\n",
       "      <td>3.5</td>\n",
       "      <td>186005 km</td>\n",
       "      <td>6.0</td>\n",
       "      <td>Automatic</td>\n",
       "      <td>4x4</td>\n",
       "      <td>04-May</td>\n",
       "      <td>Left wheel</td>\n",
       "      <td>Silver</td>\n",
       "      <td>12</td>\n",
       "    </tr>\n",
       "    <tr>\n",
       "      <th>1</th>\n",
       "      <td>44731507</td>\n",
       "      <td>16621</td>\n",
       "      <td>1018</td>\n",
       "      <td>CHEVROLET</td>\n",
       "      <td>Equinox</td>\n",
       "      <td>2011</td>\n",
       "      <td>Jeep</td>\n",
       "      <td>No</td>\n",
       "      <td>Petrol</td>\n",
       "      <td>3</td>\n",
       "      <td>192000 km</td>\n",
       "      <td>6.0</td>\n",
       "      <td>Tiptronic</td>\n",
       "      <td>4x4</td>\n",
       "      <td>04-May</td>\n",
       "      <td>Left wheel</td>\n",
       "      <td>Black</td>\n",
       "      <td>8</td>\n",
       "    </tr>\n",
       "    <tr>\n",
       "      <th>2</th>\n",
       "      <td>45774419</td>\n",
       "      <td>8467</td>\n",
       "      <td>-</td>\n",
       "      <td>HONDA</td>\n",
       "      <td>FIT</td>\n",
       "      <td>2006</td>\n",
       "      <td>Hatchback</td>\n",
       "      <td>No</td>\n",
       "      <td>Petrol</td>\n",
       "      <td>1.3</td>\n",
       "      <td>200000 km</td>\n",
       "      <td>4.0</td>\n",
       "      <td>Variator</td>\n",
       "      <td>Front</td>\n",
       "      <td>04-May</td>\n",
       "      <td>Right-hand drive</td>\n",
       "      <td>Black</td>\n",
       "      <td>2</td>\n",
       "    </tr>\n",
       "    <tr>\n",
       "      <th>3</th>\n",
       "      <td>45769185</td>\n",
       "      <td>3607</td>\n",
       "      <td>862</td>\n",
       "      <td>FORD</td>\n",
       "      <td>Escape</td>\n",
       "      <td>2011</td>\n",
       "      <td>Jeep</td>\n",
       "      <td>Yes</td>\n",
       "      <td>Hybrid</td>\n",
       "      <td>2.5</td>\n",
       "      <td>168966 km</td>\n",
       "      <td>4.0</td>\n",
       "      <td>Automatic</td>\n",
       "      <td>4x4</td>\n",
       "      <td>04-May</td>\n",
       "      <td>Left wheel</td>\n",
       "      <td>White</td>\n",
       "      <td>0</td>\n",
       "    </tr>\n",
       "    <tr>\n",
       "      <th>4</th>\n",
       "      <td>45809263</td>\n",
       "      <td>11726</td>\n",
       "      <td>446</td>\n",
       "      <td>HONDA</td>\n",
       "      <td>FIT</td>\n",
       "      <td>2014</td>\n",
       "      <td>Hatchback</td>\n",
       "      <td>Yes</td>\n",
       "      <td>Petrol</td>\n",
       "      <td>1.3</td>\n",
       "      <td>91901 km</td>\n",
       "      <td>4.0</td>\n",
       "      <td>Automatic</td>\n",
       "      <td>Front</td>\n",
       "      <td>04-May</td>\n",
       "      <td>Left wheel</td>\n",
       "      <td>Silver</td>\n",
       "      <td>4</td>\n",
       "    </tr>\n",
       "  </tbody>\n",
       "</table>\n",
       "</div>"
      ],
      "text/plain": [
       "         ID  Price  Levy Manufacturer    Model  Prod. year   Category  \\\n",
       "0  45654403  13328  1399        LEXUS   RX 450        2010       Jeep   \n",
       "1  44731507  16621  1018    CHEVROLET  Equinox        2011       Jeep   \n",
       "2  45774419   8467     -        HONDA      FIT        2006  Hatchback   \n",
       "3  45769185   3607   862         FORD   Escape        2011       Jeep   \n",
       "4  45809263  11726   446        HONDA      FIT        2014  Hatchback   \n",
       "\n",
       "  Leather interior Fuel type Engine volume    Mileage  Cylinders  \\\n",
       "0              Yes    Hybrid           3.5  186005 km        6.0   \n",
       "1               No    Petrol             3  192000 km        6.0   \n",
       "2               No    Petrol           1.3  200000 km        4.0   \n",
       "3              Yes    Hybrid           2.5  168966 km        4.0   \n",
       "4              Yes    Petrol           1.3   91901 km        4.0   \n",
       "\n",
       "  Gear box type Drive wheels   Doors             Wheel   Color  Airbags  \n",
       "0     Automatic          4x4  04-May        Left wheel  Silver       12  \n",
       "1     Tiptronic          4x4  04-May        Left wheel   Black        8  \n",
       "2      Variator        Front  04-May  Right-hand drive   Black        2  \n",
       "3     Automatic          4x4  04-May        Left wheel   White        0  \n",
       "4     Automatic        Front  04-May        Left wheel  Silver        4  "
      ]
     },
     "execution_count": 7,
     "metadata": {},
     "output_type": "execute_result"
    }
   ],
   "source": [
    "car= pd.read_csv(r\"D:\\Data Study materials\\car price\\car_price_prediction.csv\")\n",
    "car.head()"
   ]
  },
  {
   "cell_type": "markdown",
   "id": "93d613c7",
   "metadata": {},
   "source": [
    "## Dataset information"
   ]
  },
  {
   "cell_type": "markdown",
   "id": "6a2ab215",
   "metadata": {},
   "source": [
    "- Check Missing values\n",
    "- Check Duplicates\n",
    "- Check data type\n",
    "- Check the number of unique values of each column\n",
    "- Check statistics of data set\n",
    "- Check various categories present in the different categorical column"
   ]
  },
  {
   "cell_type": "code",
   "execution_count": 8,
   "id": "7ff7b9e0",
   "metadata": {},
   "outputs": [
    {
     "data": {
      "text/plain": [
       "(19237, 18)"
      ]
     },
     "execution_count": 8,
     "metadata": {},
     "output_type": "execute_result"
    }
   ],
   "source": [
    "car.shape"
   ]
  },
  {
   "cell_type": "code",
   "execution_count": 9,
   "id": "8b7b0070",
   "metadata": {
    "scrolled": true
   },
   "outputs": [
    {
     "data": {
      "text/plain": [
       "ID                  0\n",
       "Price               0\n",
       "Levy                0\n",
       "Manufacturer        0\n",
       "Model               0\n",
       "Prod. year          0\n",
       "Category            0\n",
       "Leather interior    0\n",
       "Fuel type           0\n",
       "Engine volume       0\n",
       "Mileage             0\n",
       "Cylinders           0\n",
       "Gear box type       0\n",
       "Drive wheels        0\n",
       "Doors               0\n",
       "Wheel               0\n",
       "Color               0\n",
       "Airbags             0\n",
       "dtype: int64"
      ]
     },
     "execution_count": 9,
     "metadata": {},
     "output_type": "execute_result"
    }
   ],
   "source": [
    "car.isnull().sum()"
   ]
  },
  {
   "cell_type": "code",
   "execution_count": 10,
   "id": "16f7b641",
   "metadata": {},
   "outputs": [
    {
     "data": {
      "text/plain": [
       "313"
      ]
     },
     "execution_count": 10,
     "metadata": {},
     "output_type": "execute_result"
    }
   ],
   "source": [
    "car.duplicated().sum()"
   ]
  },
  {
   "cell_type": "code",
   "execution_count": 11,
   "id": "0bd77c75",
   "metadata": {},
   "outputs": [
    {
     "name": "stdout",
     "output_type": "stream",
     "text": [
      "<class 'pandas.core.frame.DataFrame'>\n",
      "RangeIndex: 19237 entries, 0 to 19236\n",
      "Data columns (total 18 columns):\n",
      " #   Column            Non-Null Count  Dtype  \n",
      "---  ------            --------------  -----  \n",
      " 0   ID                19237 non-null  int64  \n",
      " 1   Price             19237 non-null  int64  \n",
      " 2   Levy              19237 non-null  object \n",
      " 3   Manufacturer      19237 non-null  object \n",
      " 4   Model             19237 non-null  object \n",
      " 5   Prod. year        19237 non-null  int64  \n",
      " 6   Category          19237 non-null  object \n",
      " 7   Leather interior  19237 non-null  object \n",
      " 8   Fuel type         19237 non-null  object \n",
      " 9   Engine volume     19237 non-null  object \n",
      " 10  Mileage           19237 non-null  object \n",
      " 11  Cylinders         19237 non-null  float64\n",
      " 12  Gear box type     19237 non-null  object \n",
      " 13  Drive wheels      19237 non-null  object \n",
      " 14  Doors             19237 non-null  object \n",
      " 15  Wheel             19237 non-null  object \n",
      " 16  Color             19237 non-null  object \n",
      " 17  Airbags           19237 non-null  int64  \n",
      "dtypes: float64(1), int64(4), object(13)\n",
      "memory usage: 2.6+ MB\n"
     ]
    }
   ],
   "source": [
    "car.info()"
   ]
  },
  {
   "cell_type": "code",
   "execution_count": 12,
   "id": "b9da0c34",
   "metadata": {},
   "outputs": [
    {
     "data": {
      "text/plain": [
       "ID                  18924\n",
       "Price                2315\n",
       "Levy                  559\n",
       "Manufacturer           65\n",
       "Model                1590\n",
       "Prod. year             54\n",
       "Category               11\n",
       "Leather interior        2\n",
       "Fuel type               7\n",
       "Engine volume         107\n",
       "Mileage              7687\n",
       "Cylinders              13\n",
       "Gear box type           4\n",
       "Drive wheels            3\n",
       "Doors                   3\n",
       "Wheel                   2\n",
       "Color                  16\n",
       "Airbags                17\n",
       "dtype: int64"
      ]
     },
     "execution_count": 12,
     "metadata": {},
     "output_type": "execute_result"
    }
   ],
   "source": [
    "car.nunique()"
   ]
  },
  {
   "cell_type": "code",
   "execution_count": 13,
   "id": "610c094a",
   "metadata": {},
   "outputs": [
    {
     "data": {
      "text/html": [
       "<div>\n",
       "<style scoped>\n",
       "    .dataframe tbody tr th:only-of-type {\n",
       "        vertical-align: middle;\n",
       "    }\n",
       "\n",
       "    .dataframe tbody tr th {\n",
       "        vertical-align: top;\n",
       "    }\n",
       "\n",
       "    .dataframe thead th {\n",
       "        text-align: right;\n",
       "    }\n",
       "</style>\n",
       "<table border=\"1\" class=\"dataframe\">\n",
       "  <thead>\n",
       "    <tr style=\"text-align: right;\">\n",
       "      <th></th>\n",
       "      <th>ID</th>\n",
       "      <th>Price</th>\n",
       "      <th>Prod. year</th>\n",
       "      <th>Cylinders</th>\n",
       "      <th>Airbags</th>\n",
       "    </tr>\n",
       "  </thead>\n",
       "  <tbody>\n",
       "    <tr>\n",
       "      <th>count</th>\n",
       "      <td>1.923700e+04</td>\n",
       "      <td>1.923700e+04</td>\n",
       "      <td>19237.000000</td>\n",
       "      <td>19237.000000</td>\n",
       "      <td>19237.000000</td>\n",
       "    </tr>\n",
       "    <tr>\n",
       "      <th>mean</th>\n",
       "      <td>4.557654e+07</td>\n",
       "      <td>1.855593e+04</td>\n",
       "      <td>2010.912824</td>\n",
       "      <td>4.582991</td>\n",
       "      <td>6.582627</td>\n",
       "    </tr>\n",
       "    <tr>\n",
       "      <th>std</th>\n",
       "      <td>9.365914e+05</td>\n",
       "      <td>1.905813e+05</td>\n",
       "      <td>5.668673</td>\n",
       "      <td>1.199933</td>\n",
       "      <td>4.320168</td>\n",
       "    </tr>\n",
       "    <tr>\n",
       "      <th>min</th>\n",
       "      <td>2.074688e+07</td>\n",
       "      <td>1.000000e+00</td>\n",
       "      <td>1939.000000</td>\n",
       "      <td>1.000000</td>\n",
       "      <td>0.000000</td>\n",
       "    </tr>\n",
       "    <tr>\n",
       "      <th>25%</th>\n",
       "      <td>4.569837e+07</td>\n",
       "      <td>5.331000e+03</td>\n",
       "      <td>2009.000000</td>\n",
       "      <td>4.000000</td>\n",
       "      <td>4.000000</td>\n",
       "    </tr>\n",
       "    <tr>\n",
       "      <th>50%</th>\n",
       "      <td>4.577231e+07</td>\n",
       "      <td>1.317200e+04</td>\n",
       "      <td>2012.000000</td>\n",
       "      <td>4.000000</td>\n",
       "      <td>6.000000</td>\n",
       "    </tr>\n",
       "    <tr>\n",
       "      <th>75%</th>\n",
       "      <td>4.580204e+07</td>\n",
       "      <td>2.207500e+04</td>\n",
       "      <td>2015.000000</td>\n",
       "      <td>4.000000</td>\n",
       "      <td>12.000000</td>\n",
       "    </tr>\n",
       "    <tr>\n",
       "      <th>max</th>\n",
       "      <td>4.581665e+07</td>\n",
       "      <td>2.630750e+07</td>\n",
       "      <td>2020.000000</td>\n",
       "      <td>16.000000</td>\n",
       "      <td>16.000000</td>\n",
       "    </tr>\n",
       "  </tbody>\n",
       "</table>\n",
       "</div>"
      ],
      "text/plain": [
       "                 ID         Price    Prod. year     Cylinders       Airbags\n",
       "count  1.923700e+04  1.923700e+04  19237.000000  19237.000000  19237.000000\n",
       "mean   4.557654e+07  1.855593e+04   2010.912824      4.582991      6.582627\n",
       "std    9.365914e+05  1.905813e+05      5.668673      1.199933      4.320168\n",
       "min    2.074688e+07  1.000000e+00   1939.000000      1.000000      0.000000\n",
       "25%    4.569837e+07  5.331000e+03   2009.000000      4.000000      4.000000\n",
       "50%    4.577231e+07  1.317200e+04   2012.000000      4.000000      6.000000\n",
       "75%    4.580204e+07  2.207500e+04   2015.000000      4.000000     12.000000\n",
       "max    4.581665e+07  2.630750e+07   2020.000000     16.000000     16.000000"
      ]
     },
     "execution_count": 13,
     "metadata": {},
     "output_type": "execute_result"
    }
   ],
   "source": [
    "car.describe()"
   ]
  },
  {
   "cell_type": "markdown",
   "id": "73ab5bda",
   "metadata": {},
   "source": [
    "## Insights"
   ]
  },
  {
   "cell_type": "markdown",
   "id": "9c741fb9",
   "metadata": {},
   "source": [
    "- There are duplicate values need to remove\n",
    "- Mileage column has a km attached with it's values\n",
    "- Levy, Engine volume,doors are object columns needs some preprocessing"
   ]
  },
  {
   "cell_type": "markdown",
   "id": "46c1ad11",
   "metadata": {},
   "source": [
    "# Exploring Dataset"
   ]
  },
  {
   "cell_type": "code",
   "execution_count": 14,
   "id": "3dede40c",
   "metadata": {},
   "outputs": [
    {
     "name": "stdout",
     "output_type": "stream",
     "text": [
      "Categories in 'Manufacturer' variable:      ['LEXUS' 'CHEVROLET' 'HONDA' 'FORD' 'HYUNDAI' 'TOYOTA' 'MERCEDES-BENZ'\n",
      " 'OPEL' 'PORSCHE' 'BMW' 'JEEP' 'VOLKSWAGEN' 'AUDI' 'RENAULT' 'NISSAN'\n",
      " 'SUBARU' 'DAEWOO' 'KIA' 'MITSUBISHI' 'SSANGYONG' 'MAZDA' 'GMC' 'FIAT'\n",
      " 'INFINITI' 'ALFA ROMEO' 'SUZUKI' 'ACURA' 'LINCOLN' 'VAZ' 'GAZ' 'CITROEN'\n",
      " 'LAND ROVER' 'MINI' 'DODGE' 'CHRYSLER' 'JAGUAR' 'ISUZU' 'SKODA'\n",
      " 'DAIHATSU' 'BUICK' 'TESLA' 'CADILLAC' 'PEUGEOT' 'BENTLEY' 'VOLVO' 'სხვა'\n",
      " 'HAVAL' 'HUMMER' 'SCION' 'UAZ' 'MERCURY' 'ZAZ' 'ROVER' 'SEAT' 'LANCIA'\n",
      " 'MOSKVICH' 'MASERATI' 'FERRARI' 'SAAB' 'LAMBORGHINI' 'ROLLS-ROYCE'\n",
      " 'PONTIAC' 'SATURN' 'ASTON MARTIN' 'GREATWALL']\n",
      "Categories in 'Category' variable:   ['Jeep' 'Hatchback' 'Sedan' 'Microbus' 'Goods wagon' 'Universal' 'Coupe'\n",
      " 'Minivan' 'Cabriolet' 'Limousine' 'Pickup']\n",
      "Categories in 'Fuel type' variable: ['Hybrid' 'Petrol' 'Diesel' 'CNG' 'Plug-in Hybrid' 'LPG' 'Hydrogen']\n",
      "Categories in 'Gear box type' variable:      ['Automatic' 'Tiptronic' 'Variator' 'Manual']\n",
      "Categories in 'Doors' variable:   ['04-May' '02-Mar' '>5']\n",
      "Categories in 'Drive wheels' variable: ['4x4' 'Front' 'Rear']\n",
      "Categories in 'Color' variable: ['Silver' 'Black' 'White' 'Grey' 'Blue' 'Green' 'Red' 'Sky blue' 'Orange'\n",
      " 'Yellow' 'Brown' 'Golden' 'Beige' 'Carnelian red' 'Purple' 'Pink']\n"
     ]
    }
   ],
   "source": [
    "print(\"Categories in 'Manufacturer' variable:     \",end=\" \" )\n",
    "print(car['Manufacturer'].unique())\n",
    "\n",
    "print(\"Categories in 'Category' variable:  \",end=\" \")\n",
    "print(car['Category'].unique())\n",
    "\n",
    "print(\"Categories in 'Fuel type' variable:\",end=\" \" )\n",
    "print(car['Fuel type'].unique())\n",
    "\n",
    "print(\"Categories in 'Gear box type' variable:     \",end=\" \" )\n",
    "print(car['Gear box type'].unique())\n",
    "\n",
    "print(\"Categories in 'Doors' variable:  \",end=\" \")\n",
    "print(car['Doors'].unique())\n",
    "\n",
    "print(\"Categories in 'Drive wheels' variable:\",end=\" \" )\n",
    "print(car['Drive wheels'].unique())\n",
    "\n",
    "print(\"Categories in 'Color' variable:\",end=\" \" )\n",
    "print(car['Color'].unique())\n"
   ]
  },
  {
   "cell_type": "code",
   "execution_count": 15,
   "id": "e65b3707",
   "metadata": {
    "scrolled": true
   },
   "outputs": [
    {
     "name": "stdout",
     "output_type": "stream",
     "text": [
      "values in 'Price' column:   "
     ]
    },
    {
     "data": {
      "text/plain": [
       "[1,\n",
       " 1,\n",
       " 3,\n",
       " 3,\n",
       " 3,\n",
       " 3,\n",
       " 3,\n",
       " 3,\n",
       " 3,\n",
       " 3,\n",
       " 3,\n",
       " 3,\n",
       " 3,\n",
       " 3,\n",
       " 3,\n",
       " 3,\n",
       " 3,\n",
       " 6,\n",
       " 6,\n",
       " 6,\n",
       " 6,\n",
       " 6,\n",
       " 6,\n",
       " 9,\n",
       " 19,\n",
       " 20,\n",
       " 20,\n",
       " 20,\n",
       " 20,\n",
       " 20,\n",
       " 20,\n",
       " 20,\n",
       " 25,\n",
       " 25,\n",
       " 25,\n",
       " 25,\n",
       " 25,\n",
       " 25,\n",
       " 25,\n",
       " 25,\n",
       " 25,\n",
       " 25,\n",
       " 25,\n",
       " 25,\n",
       " 25,\n",
       " 25,\n",
       " 25,\n",
       " 25,\n",
       " 28,\n",
       " 30,\n",
       " 30,\n",
       " 30,\n",
       " 30,\n",
       " 30,\n",
       " 30,\n",
       " 30,\n",
       " 30,\n",
       " 30,\n",
       " 30,\n",
       " 30,\n",
       " 30,\n",
       " 30,\n",
       " 30,\n",
       " 30,\n",
       " 30,\n",
       " 30,\n",
       " 30,\n",
       " 30,\n",
       " 30,\n",
       " 30,\n",
       " 30,\n",
       " 30,\n",
       " 30,\n",
       " 30,\n",
       " 30,\n",
       " 30,\n",
       " 30,\n",
       " 30,\n",
       " 30,\n",
       " 30,\n",
       " 30,\n",
       " 30,\n",
       " 30,\n",
       " 30,\n",
       " 30,\n",
       " 30,\n",
       " 30,\n",
       " 30,\n",
       " 30,\n",
       " 30,\n",
       " 30,\n",
       " 30,\n",
       " 30,\n",
       " 30,\n",
       " 30,\n",
       " 30,\n",
       " 30,\n",
       " 30,\n",
       " 30,\n",
       " 30,\n",
       " 30,\n",
       " 30,\n",
       " 30,\n",
       " 30,\n",
       " 30,\n",
       " 30,\n",
       " 30,\n",
       " 30,\n",
       " 30,\n",
       " 30,\n",
       " 30,\n",
       " 30,\n",
       " 30,\n",
       " 30,\n",
       " 30,\n",
       " 30,\n",
       " 30,\n",
       " 30,\n",
       " 30,\n",
       " 30,\n",
       " 30,\n",
       " 30,\n",
       " 30,\n",
       " 30,\n",
       " 30,\n",
       " 30,\n",
       " 30,\n",
       " 31,\n",
       " 31,\n",
       " 31,\n",
       " 31,\n",
       " 31,\n",
       " 31,\n",
       " 31,\n",
       " 31,\n",
       " 31,\n",
       " 31,\n",
       " 31,\n",
       " 31,\n",
       " 31,\n",
       " 33,\n",
       " 34,\n",
       " 35,\n",
       " 35,\n",
       " 35,\n",
       " 35,\n",
       " 35,\n",
       " 35,\n",
       " 35,\n",
       " 35,\n",
       " 35,\n",
       " 35,\n",
       " 36,\n",
       " 40,\n",
       " 40,\n",
       " 40,\n",
       " 40,\n",
       " 40,\n",
       " 40,\n",
       " 40,\n",
       " 40,\n",
       " 40,\n",
       " 40,\n",
       " 40,\n",
       " 40,\n",
       " 40,\n",
       " 40,\n",
       " 40,\n",
       " 40,\n",
       " 40,\n",
       " 40,\n",
       " 40,\n",
       " 40,\n",
       " 40,\n",
       " 40,\n",
       " 40,\n",
       " 40,\n",
       " 40,\n",
       " 40,\n",
       " 40,\n",
       " 40,\n",
       " 40,\n",
       " 40,\n",
       " 40,\n",
       " 40,\n",
       " 40,\n",
       " 45,\n",
       " 45,\n",
       " 45,\n",
       " 45,\n",
       " 45,\n",
       " 45,\n",
       " 45,\n",
       " 45,\n",
       " 45,\n",
       " 45,\n",
       " 45,\n",
       " 45,\n",
       " 47,\n",
       " 47,\n",
       " 47,\n",
       " 47,\n",
       " 47,\n",
       " 47,\n",
       " 47,\n",
       " 47,\n",
       " 47,\n",
       " 47,\n",
       " 47,\n",
       " 47,\n",
       " 47,\n",
       " 47,\n",
       " 50,\n",
       " 50,\n",
       " 50,\n",
       " 50,\n",
       " 50,\n",
       " 50,\n",
       " 50,\n",
       " 50,\n",
       " 50,\n",
       " 50,\n",
       " 50,\n",
       " 50,\n",
       " 50,\n",
       " 50,\n",
       " 50,\n",
       " 50,\n",
       " 50,\n",
       " 50,\n",
       " 50,\n",
       " 50,\n",
       " 50,\n",
       " 50,\n",
       " 50,\n",
       " 50,\n",
       " 50,\n",
       " 50,\n",
       " 50,\n",
       " 50,\n",
       " 50,\n",
       " 50,\n",
       " 50,\n",
       " 50,\n",
       " 50,\n",
       " 50,\n",
       " 50,\n",
       " 50,\n",
       " 50,\n",
       " 50,\n",
       " 50,\n",
       " 50,\n",
       " 50,\n",
       " 55,\n",
       " 60,\n",
       " 60,\n",
       " 60,\n",
       " 60,\n",
       " 60,\n",
       " 60,\n",
       " 60,\n",
       " 60,\n",
       " 60,\n",
       " 60,\n",
       " 60,\n",
       " 60,\n",
       " 60,\n",
       " 63,\n",
       " 63,\n",
       " 65,\n",
       " 65,\n",
       " 69,\n",
       " 70,\n",
       " 70,\n",
       " 70,\n",
       " 70,\n",
       " 70,\n",
       " 70,\n",
       " 70,\n",
       " 70,\n",
       " 70,\n",
       " 70,\n",
       " 70,\n",
       " 70,\n",
       " 70,\n",
       " 78,\n",
       " 78,\n",
       " 78,\n",
       " 78,\n",
       " 78,\n",
       " 78,\n",
       " 80,\n",
       " 80,\n",
       " 80,\n",
       " 80,\n",
       " 80,\n",
       " 80,\n",
       " 80,\n",
       " 80,\n",
       " 80,\n",
       " 80,\n",
       " 80,\n",
       " 80,\n",
       " 80,\n",
       " 80,\n",
       " 80,\n",
       " 80,\n",
       " 80,\n",
       " 80,\n",
       " 80,\n",
       " 80,\n",
       " 80,\n",
       " 90,\n",
       " 90,\n",
       " 90,\n",
       " 90,\n",
       " 90,\n",
       " 90,\n",
       " 90,\n",
       " 90,\n",
       " 90,\n",
       " 90,\n",
       " 94,\n",
       " 94,\n",
       " 94,\n",
       " 94,\n",
       " 94,\n",
       " 94,\n",
       " 94,\n",
       " 94,\n",
       " 94,\n",
       " 94,\n",
       " 94,\n",
       " 94,\n",
       " 94,\n",
       " 94,\n",
       " 94,\n",
       " 94,\n",
       " 94,\n",
       " 94,\n",
       " 94,\n",
       " 94,\n",
       " 94,\n",
       " 94,\n",
       " 94,\n",
       " 94,\n",
       " 94,\n",
       " 94,\n",
       " 94,\n",
       " 94,\n",
       " 94,\n",
       " 94,\n",
       " 94,\n",
       " 94,\n",
       " 94,\n",
       " 94,\n",
       " 100,\n",
       " 100,\n",
       " 100,\n",
       " 100,\n",
       " 100,\n",
       " 100,\n",
       " 100,\n",
       " 100,\n",
       " 100,\n",
       " 100,\n",
       " 100,\n",
       " 100,\n",
       " 100,\n",
       " 100,\n",
       " 100,\n",
       " 100,\n",
       " 100,\n",
       " 100,\n",
       " 100,\n",
       " 100,\n",
       " 100,\n",
       " 100,\n",
       " 100,\n",
       " 100,\n",
       " 100,\n",
       " 110,\n",
       " 110,\n",
       " 110,\n",
       " 110,\n",
       " 110,\n",
       " 110,\n",
       " 110,\n",
       " 110,\n",
       " 110,\n",
       " 110,\n",
       " 110,\n",
       " 110,\n",
       " 120,\n",
       " 120,\n",
       " 120,\n",
       " 120,\n",
       " 120,\n",
       " 120,\n",
       " 120,\n",
       " 125,\n",
       " 125,\n",
       " 125,\n",
       " 125,\n",
       " 125,\n",
       " 125,\n",
       " 125,\n",
       " 125,\n",
       " 125,\n",
       " 125,\n",
       " 125,\n",
       " 125,\n",
       " 125,\n",
       " 125,\n",
       " 125,\n",
       " 125,\n",
       " 125,\n",
       " 125,\n",
       " 125,\n",
       " 125,\n",
       " 125,\n",
       " 125,\n",
       " 125,\n",
       " 125,\n",
       " 125,\n",
       " 130,\n",
       " 130,\n",
       " 130,\n",
       " 135,\n",
       " 140,\n",
       " 140,\n",
       " 149,\n",
       " 150,\n",
       " 150,\n",
       " 150,\n",
       " 150,\n",
       " 150,\n",
       " 150,\n",
       " 150,\n",
       " 150,\n",
       " 150,\n",
       " 150,\n",
       " 157,\n",
       " 157,\n",
       " 157,\n",
       " 157,\n",
       " 157,\n",
       " 157,\n",
       " 157,\n",
       " 157,\n",
       " 157,\n",
       " 157,\n",
       " 157,\n",
       " 157,\n",
       " 157,\n",
       " 157,\n",
       " 157,\n",
       " 157,\n",
       " 157,\n",
       " 157,\n",
       " 157,\n",
       " 157,\n",
       " 157,\n",
       " 157,\n",
       " 157,\n",
       " 157,\n",
       " 157,\n",
       " 157,\n",
       " 157,\n",
       " 157,\n",
       " 157,\n",
       " 157,\n",
       " 157,\n",
       " 157,\n",
       " 157,\n",
       " 157,\n",
       " 157,\n",
       " 157,\n",
       " 157,\n",
       " 157,\n",
       " 157,\n",
       " 157,\n",
       " 157,\n",
       " 157,\n",
       " 157,\n",
       " 157,\n",
       " 157,\n",
       " 157,\n",
       " 157,\n",
       " 157,\n",
       " 157,\n",
       " 157,\n",
       " 157,\n",
       " 157,\n",
       " 157,\n",
       " 157,\n",
       " 157,\n",
       " 157,\n",
       " 157,\n",
       " 157,\n",
       " 157,\n",
       " 157,\n",
       " 157,\n",
       " 157,\n",
       " 157,\n",
       " 157,\n",
       " 157,\n",
       " 157,\n",
       " 157,\n",
       " 157,\n",
       " 157,\n",
       " 157,\n",
       " 157,\n",
       " 157,\n",
       " 157,\n",
       " 157,\n",
       " 157,\n",
       " 157,\n",
       " 157,\n",
       " 157,\n",
       " 157,\n",
       " 157,\n",
       " 157,\n",
       " 157,\n",
       " 157,\n",
       " 157,\n",
       " 157,\n",
       " 157,\n",
       " 157,\n",
       " 157,\n",
       " 157,\n",
       " 157,\n",
       " 157,\n",
       " 157,\n",
       " 157,\n",
       " 157,\n",
       " 157,\n",
       " 157,\n",
       " 157,\n",
       " 157,\n",
       " 157,\n",
       " 157,\n",
       " 157,\n",
       " 157,\n",
       " 157,\n",
       " 157,\n",
       " 157,\n",
       " 157,\n",
       " 160,\n",
       " 170,\n",
       " 180,\n",
       " 188,\n",
       " 188,\n",
       " 188,\n",
       " 188,\n",
       " 188,\n",
       " 188,\n",
       " 188,\n",
       " 188,\n",
       " 188,\n",
       " 188,\n",
       " 188,\n",
       " 188,\n",
       " 188,\n",
       " 188,\n",
       " 188,\n",
       " 188,\n",
       " 188,\n",
       " 188,\n",
       " 188,\n",
       " 188,\n",
       " 188,\n",
       " 188,\n",
       " 188,\n",
       " 188,\n",
       " 188,\n",
       " 188,\n",
       " 188,\n",
       " 188,\n",
       " 188,\n",
       " 188,\n",
       " 188,\n",
       " 188,\n",
       " 188,\n",
       " 188,\n",
       " 188,\n",
       " 188,\n",
       " 188,\n",
       " 188,\n",
       " 188,\n",
       " 188,\n",
       " 188,\n",
       " 188,\n",
       " 188,\n",
       " 188,\n",
       " 188,\n",
       " 188,\n",
       " 188,\n",
       " 188,\n",
       " 188,\n",
       " 188,\n",
       " 188,\n",
       " 188,\n",
       " 188,\n",
       " 188,\n",
       " 188,\n",
       " 188,\n",
       " 188,\n",
       " 188,\n",
       " 188,\n",
       " 188,\n",
       " 188,\n",
       " 188,\n",
       " 188,\n",
       " 188,\n",
       " 188,\n",
       " 188,\n",
       " 188,\n",
       " 188,\n",
       " 188,\n",
       " 188,\n",
       " 188,\n",
       " 188,\n",
       " 188,\n",
       " 188,\n",
       " 188,\n",
       " 188,\n",
       " 188,\n",
       " 188,\n",
       " 188,\n",
       " 188,\n",
       " 188,\n",
       " 188,\n",
       " 188,\n",
       " 188,\n",
       " 188,\n",
       " 188,\n",
       " 188,\n",
       " 188,\n",
       " 188,\n",
       " 188,\n",
       " 188,\n",
       " 188,\n",
       " 188,\n",
       " 188,\n",
       " 188,\n",
       " 188,\n",
       " 188,\n",
       " 188,\n",
       " 188,\n",
       " 188,\n",
       " 188,\n",
       " 188,\n",
       " 199,\n",
       " 200,\n",
       " 200,\n",
       " 200,\n",
       " 200,\n",
       " 200,\n",
       " 200,\n",
       " 204,\n",
       " 204,\n",
       " 220,\n",
       " 220,\n",
       " 220,\n",
       " 220,\n",
       " 220,\n",
       " 220,\n",
       " 220,\n",
       " 220,\n",
       " 220,\n",
       " 220,\n",
       " 220,\n",
       " 220,\n",
       " 220,\n",
       " 220,\n",
       " 220,\n",
       " 220,\n",
       " 220,\n",
       " 220,\n",
       " 220,\n",
       " 220,\n",
       " 220,\n",
       " 220,\n",
       " 220,\n",
       " 220,\n",
       " 220,\n",
       " 220,\n",
       " 220,\n",
       " 220,\n",
       " 220,\n",
       " 220,\n",
       " 220,\n",
       " 220,\n",
       " 220,\n",
       " 220,\n",
       " 220,\n",
       " 220,\n",
       " 220,\n",
       " 220,\n",
       " 220,\n",
       " 220,\n",
       " 220,\n",
       " 220,\n",
       " 220,\n",
       " 220,\n",
       " 220,\n",
       " 220,\n",
       " 220,\n",
       " 220,\n",
       " 220,\n",
       " 220,\n",
       " 220,\n",
       " 220,\n",
       " 220,\n",
       " 220,\n",
       " 220,\n",
       " 220,\n",
       " 220,\n",
       " 220,\n",
       " 220,\n",
       " 220,\n",
       " 220,\n",
       " 220,\n",
       " 220,\n",
       " 220,\n",
       " 220,\n",
       " 220,\n",
       " 220,\n",
       " 220,\n",
       " 220,\n",
       " 220,\n",
       " 220,\n",
       " 240,\n",
       " 250,\n",
       " 250,\n",
       " 250,\n",
       " 250,\n",
       " 250,\n",
       " 250,\n",
       " 250,\n",
       " 251,\n",
       " 251,\n",
       " 251,\n",
       " 251,\n",
       " 251,\n",
       " 251,\n",
       " 251,\n",
       " 251,\n",
       " 251,\n",
       " 251,\n",
       " 251,\n",
       " 251,\n",
       " 251,\n",
       " 251,\n",
       " 251,\n",
       " 251,\n",
       " 251,\n",
       " 251,\n",
       " 251,\n",
       " 251,\n",
       " 251,\n",
       " 251,\n",
       " 251,\n",
       " 251,\n",
       " 251,\n",
       " 251,\n",
       " 251,\n",
       " 251,\n",
       " 251,\n",
       " 251,\n",
       " 251,\n",
       " 251,\n",
       " 251,\n",
       " 251,\n",
       " 251,\n",
       " 251,\n",
       " 251,\n",
       " 251,\n",
       " 251,\n",
       " 251,\n",
       " 251,\n",
       " 251,\n",
       " 251,\n",
       " 251,\n",
       " 251,\n",
       " 251,\n",
       " 251,\n",
       " 251,\n",
       " 251,\n",
       " 251,\n",
       " 251,\n",
       " 251,\n",
       " 251,\n",
       " 251,\n",
       " 251,\n",
       " 251,\n",
       " 251,\n",
       " 251,\n",
       " 251,\n",
       " 251,\n",
       " 251,\n",
       " 282,\n",
       " 282,\n",
       " 282,\n",
       " 282,\n",
       " 282,\n",
       " 282,\n",
       " 282,\n",
       " 282,\n",
       " 282,\n",
       " 282,\n",
       " 282,\n",
       " 282,\n",
       " 282,\n",
       " 282,\n",
       " 282,\n",
       " 282,\n",
       " 282,\n",
       " 282,\n",
       " 282,\n",
       " 282,\n",
       " 282,\n",
       " 282,\n",
       " 282,\n",
       " 282,\n",
       " 282,\n",
       " 282,\n",
       " 282,\n",
       " 282,\n",
       " 282,\n",
       " 282,\n",
       " 282,\n",
       " 282,\n",
       " 282,\n",
       " 282,\n",
       " 282,\n",
       " 282,\n",
       " 282,\n",
       " 282,\n",
       " 282,\n",
       " 282,\n",
       " 282,\n",
       " 282,\n",
       " 282,\n",
       " 282,\n",
       " 282,\n",
       " 282,\n",
       " 282,\n",
       " 282,\n",
       " 282,\n",
       " 282,\n",
       " 282,\n",
       " 282,\n",
       " 282,\n",
       " 282,\n",
       " 282,\n",
       " 282,\n",
       " 282,\n",
       " 282,\n",
       " 282,\n",
       " 282,\n",
       " 282,\n",
       " 282,\n",
       " 282,\n",
       " 282,\n",
       " 282,\n",
       " 282,\n",
       " 282,\n",
       " 282,\n",
       " 282,\n",
       " 282,\n",
       " 282,\n",
       " 282,\n",
       " 282,\n",
       " 282,\n",
       " 282,\n",
       " 282,\n",
       " 282,\n",
       " 282,\n",
       " 282,\n",
       " 282,\n",
       " 282,\n",
       " 282,\n",
       " 282,\n",
       " 282,\n",
       " 282,\n",
       " 282,\n",
       " 282,\n",
       " 282,\n",
       " 282,\n",
       " 282,\n",
       " 282,\n",
       " 282,\n",
       " 300,\n",
       " 300,\n",
       " 300,\n",
       " 300,\n",
       " 300,\n",
       " 300,\n",
       " 314,\n",
       " 314,\n",
       " 314,\n",
       " 314,\n",
       " 314,\n",
       " 314,\n",
       " 314,\n",
       " 314,\n",
       " 314,\n",
       " 314,\n",
       " 314,\n",
       " 314,\n",
       " 314,\n",
       " 314,\n",
       " 314,\n",
       " 314,\n",
       " 314,\n",
       " 314,\n",
       " 314,\n",
       " 314,\n",
       " 314,\n",
       " 314,\n",
       " 314,\n",
       " 314,\n",
       " 314,\n",
       " 314,\n",
       " 314,\n",
       " 314,\n",
       " 314,\n",
       " 314,\n",
       " 314,\n",
       " 314,\n",
       " 314,\n",
       " 314,\n",
       " 314,\n",
       " 314,\n",
       " 314,\n",
       " 314,\n",
       " 314,\n",
       " 314,\n",
       " 314,\n",
       " 314,\n",
       " 314,\n",
       " 314,\n",
       " 314,\n",
       " 314,\n",
       " 314,\n",
       " 314,\n",
       " 314,\n",
       " 314,\n",
       " 314,\n",
       " 314,\n",
       " 314,\n",
       " 314,\n",
       " 314,\n",
       " 314,\n",
       " 314,\n",
       " 314,\n",
       " 314,\n",
       " 314,\n",
       " 314,\n",
       " 314,\n",
       " 314,\n",
       " 314,\n",
       " 314,\n",
       " 314,\n",
       " 314,\n",
       " 314,\n",
       " 314,\n",
       " 314,\n",
       " 314,\n",
       " 314,\n",
       " 314,\n",
       " 314,\n",
       " 314,\n",
       " 314,\n",
       " 314,\n",
       " 314,\n",
       " 314,\n",
       " 314,\n",
       " 314,\n",
       " 314,\n",
       " 314,\n",
       " 314,\n",
       " 314,\n",
       " 314,\n",
       " 314,\n",
       " 314,\n",
       " 314,\n",
       " 314,\n",
       " 314,\n",
       " 314,\n",
       " 314,\n",
       " 314,\n",
       " 314,\n",
       " 314,\n",
       " 314,\n",
       " 314,\n",
       " 314,\n",
       " 314,\n",
       " ...]"
      ]
     },
     "execution_count": 15,
     "metadata": {},
     "output_type": "execute_result"
    }
   ],
   "source": [
    "print(\"values in 'Price' column:  \"  ,end=\" \")\n",
    "sorted(car['Price'])"
   ]
  },
  {
   "cell_type": "code",
   "execution_count": null,
   "id": "9a83cc83",
   "metadata": {},
   "outputs": [],
   "source": []
  },
  {
   "cell_type": "code",
   "execution_count": 16,
   "id": "8ca8af0f",
   "metadata": {},
   "outputs": [
    {
     "name": "stdout",
     "output_type": "stream",
     "text": [
      "Lower limit in Price: -553187.8818284475\n",
      "Upper limit in Price: 590299.7362756067\n"
     ]
    }
   ],
   "source": [
    "print(\"Lower limit in Price:\", car['Price'].mean() - 3*car['Price'].std())\n",
    "print(\"Upper limit in Price:\", car['Price'].mean() + 3*car['Price'].std())"
   ]
  },
  {
   "cell_type": "code",
   "execution_count": 17,
   "id": "e3922443",
   "metadata": {
    "scrolled": false
   },
   "outputs": [
    {
     "name": "stdout",
     "output_type": "stream",
     "text": [
      "'Price' lower than 500$ in columns:   894\n",
      "'Price' greater than 30000$ in columns:   113\n"
     ]
    }
   ],
   "source": [
    "print(\"'Price' lower than 500$ in columns:  \"  ,len(car[car['Price'] < 300]))\n",
    "print(\"'Price' greater than 30000$ in columns:  \"  ,len(car[car['Price'] > 100000]))"
   ]
  },
  {
   "cell_type": "code",
   "execution_count": 18,
   "id": "742f1e61",
   "metadata": {},
   "outputs": [
    {
     "name": "stderr",
     "output_type": "stream",
     "text": [
      "C:\\Users\\Subhojit\\anaconda3\\lib\\site-packages\\seaborn\\distributions.py:2619: FutureWarning: `distplot` is a deprecated function and will be removed in a future version. Please adapt your code to use either `displot` (a figure-level function with similar flexibility) or `histplot` (an axes-level function for histograms).\n",
      "  warnings.warn(msg, FutureWarning)\n"
     ]
    },
    {
     "data": {
      "text/plain": [
       "<AxesSubplot:xlabel='Price', ylabel='Density'>"
      ]
     },
     "execution_count": 18,
     "metadata": {},
     "output_type": "execute_result"
    },
    {
     "data": {
      "image/png": "[encoded data removed]",
      "text/plain": [
       "<Figure size 432x288 with 1 Axes>"
      ]
     },
     "metadata": {
      "needs_background": "light"
     },
     "output_type": "display_data"
    }
   ],
   "source": [
    "sns.distplot(car['Price'])"
   ]
  },
  {
   "cell_type": "code",
   "execution_count": 19,
   "id": "2791bba2",
   "metadata": {},
   "outputs": [
    {
     "data": {
      "text/plain": [
       "24"
      ]
     },
     "execution_count": 19,
     "metadata": {},
     "output_type": "execute_result"
    }
   ],
   "source": [
    "sum(car['Manufacturer'].value_counts() < 10)"
   ]
  },
  {
   "cell_type": "code",
   "execution_count": 20,
   "id": "e7ec3436",
   "metadata": {},
   "outputs": [
    {
     "data": {
      "text/plain": [
       "2"
      ]
     },
     "execution_count": 20,
     "metadata": {},
     "output_type": "execute_result"
    }
   ],
   "source": [
    "len(car[car['Manufacturer'] == 'სხვა'])"
   ]
  },
  {
   "cell_type": "code",
   "execution_count": 21,
   "id": "6f0850eb",
   "metadata": {},
   "outputs": [],
   "source": [
    "car = car[car['Manufacturer'] != 'სხვა']"
   ]
  },
  {
   "cell_type": "code",
   "execution_count": null,
   "id": "d7af10da",
   "metadata": {},
   "outputs": [],
   "source": []
  },
  {
   "cell_type": "code",
   "execution_count": 22,
   "id": "ccc9b58a",
   "metadata": {
    "scrolled": true
   },
   "outputs": [
    {
     "data": {
      "text/plain": [
       "-       5817\n",
       "765      486\n",
       "891      461\n",
       "639      410\n",
       "640      405\n",
       "        ... \n",
       "3156       1\n",
       "2908       1\n",
       "1279       1\n",
       "1719       1\n",
       "1901       1\n",
       "Name: Levy, Length: 559, dtype: int64"
      ]
     },
     "execution_count": 22,
     "metadata": {},
     "output_type": "execute_result"
    }
   ],
   "source": [
    "car['Levy'].value_counts()"
   ]
  },
  {
   "cell_type": "code",
   "execution_count": 23,
   "id": "e647b2b9",
   "metadata": {},
   "outputs": [
    {
     "data": {
      "text/plain": [
       "5817"
      ]
     },
     "execution_count": 23,
     "metadata": {},
     "output_type": "execute_result"
    }
   ],
   "source": [
    "len(car[car['Levy'] == '-'])"
   ]
  },
  {
   "cell_type": "code",
   "execution_count": 24,
   "id": "4510bb45",
   "metadata": {},
   "outputs": [
    {
     "data": {
      "text/plain": [
       "Petrol            10149\n",
       "Diesel             4035\n",
       "Hybrid             3578\n",
       "LPG                 892\n",
       "CNG                 494\n",
       "Plug-in Hybrid       86\n",
       "Hydrogen              1\n",
       "Name: Fuel type, dtype: int64"
      ]
     },
     "execution_count": 24,
     "metadata": {},
     "output_type": "execute_result"
    }
   ],
   "source": [
    "car['Fuel type'].value_counts()"
   ]
  },
  {
   "cell_type": "code",
   "execution_count": 25,
   "id": "54ed1b70",
   "metadata": {},
   "outputs": [
    {
     "data": {
      "text/plain": [
       "Sedan          8736\n",
       "Jeep           5472\n",
       "Hatchback      2847\n",
       "Minivan         647\n",
       "Coupe           532\n",
       "Universal       364\n",
       "Microbus        305\n",
       "Goods wagon     233\n",
       "Pickup           52\n",
       "Cabriolet        36\n",
       "Limousine        11\n",
       "Name: Category, dtype: int64"
      ]
     },
     "execution_count": 25,
     "metadata": {},
     "output_type": "execute_result"
    }
   ],
   "source": [
    "car['Category'].value_counts()"
   ]
  },
  {
   "cell_type": "code",
   "execution_count": 26,
   "id": "01271838",
   "metadata": {},
   "outputs": [
    {
     "data": {
      "text/plain": [
       "Left wheel          17751\n",
       "Right-hand drive     1484\n",
       "Name: Wheel, dtype: int64"
      ]
     },
     "execution_count": 26,
     "metadata": {},
     "output_type": "execute_result"
    }
   ],
   "source": [
    "car['Wheel'].value_counts()"
   ]
  },
  {
   "cell_type": "code",
   "execution_count": 27,
   "id": "ea6f6cf1",
   "metadata": {},
   "outputs": [
    {
     "data": {
      "text/plain": [
       "Automatic    13514\n",
       "Tiptronic     3102\n",
       "Manual        1873\n",
       "Variator       746\n",
       "Name: Gear box type, dtype: int64"
      ]
     },
     "execution_count": 27,
     "metadata": {},
     "output_type": "execute_result"
    }
   ],
   "source": [
    "car['Gear box type'].value_counts()"
   ]
  },
  {
   "cell_type": "code",
   "execution_count": 28,
   "id": "7d212afc",
   "metadata": {},
   "outputs": [
    {
     "data": {
      "text/plain": [
       "04-May    18330\n",
       "02-Mar      777\n",
       ">5          128\n",
       "Name: Doors, dtype: int64"
      ]
     },
     "execution_count": 28,
     "metadata": {},
     "output_type": "execute_result"
    }
   ],
   "source": [
    "car['Doors'].value_counts()"
   ]
  },
  {
   "cell_type": "code",
   "execution_count": 29,
   "id": "9209564a",
   "metadata": {},
   "outputs": [
    {
     "data": {
      "text/plain": [
       "Front    12874\n",
       "4x4       4058\n",
       "Rear      2303\n",
       "Name: Drive wheels, dtype: int64"
      ]
     },
     "execution_count": 29,
     "metadata": {},
     "output_type": "execute_result"
    }
   ],
   "source": [
    "car['Drive wheels'].value_counts()"
   ]
  },
  {
   "cell_type": "code",
   "execution_count": 30,
   "id": "a34b31cd",
   "metadata": {},
   "outputs": [
    {
     "data": {
      "text/plain": [
       "Yes    13953\n",
       "No      5282\n",
       "Name: Leather interior, dtype: int64"
      ]
     },
     "execution_count": 30,
     "metadata": {},
     "output_type": "execute_result"
    }
   ],
   "source": [
    "car['Leather interior'].value_counts()"
   ]
  },
  {
   "cell_type": "code",
   "execution_count": 31,
   "id": "7952ae40",
   "metadata": {},
   "outputs": [
    {
     "data": {
      "text/plain": [
       "4.0     14365\n",
       "6.0      3462\n",
       "8.0       991\n",
       "5.0       169\n",
       "3.0       107\n",
       "2.0        42\n",
       "1.0        38\n",
       "12.0       38\n",
       "10.0       12\n",
       "16.0        5\n",
       "7.0         4\n",
       "9.0         1\n",
       "14.0        1\n",
       "Name: Cylinders, dtype: int64"
      ]
     },
     "execution_count": 31,
     "metadata": {},
     "output_type": "execute_result"
    }
   ],
   "source": [
    "car['Cylinders'].value_counts()"
   ]
  },
  {
   "cell_type": "code",
   "execution_count": 32,
   "id": "4a55f074",
   "metadata": {},
   "outputs": [
    {
     "data": {
      "text/plain": [
       "Black            5033\n",
       "White            4488\n",
       "Silver           3791\n",
       "Grey             2375\n",
       "Blue             1396\n",
       "Red               639\n",
       "Green             322\n",
       "Orange            253\n",
       "Brown             187\n",
       "Carnelian red     179\n",
       "Golden            145\n",
       "Beige             134\n",
       "Sky blue          122\n",
       "Yellow            106\n",
       "Purple             39\n",
       "Pink               26\n",
       "Name: Color, dtype: int64"
      ]
     },
     "execution_count": 32,
     "metadata": {},
     "output_type": "execute_result"
    }
   ],
   "source": [
    "car['Color'].value_counts()"
   ]
  },
  {
   "cell_type": "code",
   "execution_count": 33,
   "id": "77d777e7",
   "metadata": {},
   "outputs": [
    {
     "data": {
      "text/plain": [
       "Prius                    1083\n",
       "Sonata                   1079\n",
       "Camry                     938\n",
       "Elantra                   922\n",
       "E 350                     542\n",
       "                         ... \n",
       "C-MAX C-MAX                 1\n",
       "X1 4X4                      1\n",
       "Land Cruiser Prado RX       1\n",
       "456                         1\n",
       "Prius C aqua                1\n",
       "Name: Model, Length: 1588, dtype: int64"
      ]
     },
     "execution_count": 33,
     "metadata": {},
     "output_type": "execute_result"
    }
   ],
   "source": [
    "car['Model'].value_counts()"
   ]
  },
  {
   "cell_type": "code",
   "execution_count": 34,
   "id": "dee58925",
   "metadata": {},
   "outputs": [
    {
     "data": {
      "text/plain": [
       "1372"
      ]
     },
     "execution_count": 34,
     "metadata": {},
     "output_type": "execute_result"
    }
   ],
   "source": [
    "sum(car['Model'].value_counts() < 10)"
   ]
  },
  {
   "cell_type": "code",
   "execution_count": 35,
   "id": "cd362a06",
   "metadata": {},
   "outputs": [
    {
     "data": {
      "text/plain": [
       "2            3916\n",
       "2.5          2277\n",
       "1.8          1760\n",
       "1.6          1462\n",
       "1.5          1321\n",
       "             ... \n",
       "6.8             1\n",
       "6.7             1\n",
       "3.1             1\n",
       "0.8 Turbo       1\n",
       "1.1 Turbo       1\n",
       "Name: Engine volume, Length: 107, dtype: int64"
      ]
     },
     "execution_count": 35,
     "metadata": {},
     "output_type": "execute_result"
    }
   ],
   "source": [
    "car['Engine volume'].value_counts()"
   ]
  },
  {
   "cell_type": "code",
   "execution_count": 36,
   "id": "52d2f03d",
   "metadata": {},
   "outputs": [
    {
     "data": {
      "text/plain": [
       "207587 km      1\n",
       "120456 km      1\n",
       "42774 km       1\n",
       "51476 km       1\n",
       "47533 km       1\n",
       "            ... \n",
       "100000 km    119\n",
       "160000 km    120\n",
       "150000 km    161\n",
       "200000 km    183\n",
       "0 km         721\n",
       "Name: Mileage, Length: 7687, dtype: int64"
      ]
     },
     "execution_count": 36,
     "metadata": {},
     "output_type": "execute_result"
    }
   ],
   "source": [
    "car['Mileage'].value_counts(ascending=True)"
   ]
  },
  {
   "cell_type": "code",
   "execution_count": 37,
   "id": "004d7c31",
   "metadata": {},
   "outputs": [
    {
     "data": {
      "text/plain": [
       "0"
      ]
     },
     "execution_count": 37,
     "metadata": {},
     "output_type": "execute_result"
    }
   ],
   "source": [
    "len(car[car['Mileage'] == 0])"
   ]
  },
  {
   "cell_type": "markdown",
   "id": "815a2f5d",
   "metadata": {},
   "source": [
    "## Insights"
   ]
  },
  {
   "cell_type": "markdown",
   "id": "ba2e6a39",
   "metadata": {},
   "source": [
    "- Have to remove outliers from Price, Manufacturer column\n",
    "- Have to remove 'km' from Mileage column\n",
    "- Drop dependent columns like Model\n",
    "- Replace '-' values with mean in Levy column\n",
    "- Engine volume have 'Turbo' in certain values, need separate column fpr Turbo\n",
    "- Change the values in Doors columns\n",
    "- Change '4x4' values in Drive wheels column\n",
    "- Remove the 'Hydrogen' Fuel type"
   ]
  },
  {
   "cell_type": "markdown",
   "id": "7f3d78a1",
   "metadata": {},
   "source": [
    "# Data Preprocessing"
   ]
  },
  {
   "cell_type": "code",
   "execution_count": 38,
   "id": "0fa1e239",
   "metadata": {},
   "outputs": [],
   "source": [
    "# Filter out rows where 'Price' is less than 500 or greater than 30,000\n",
    "car = car[~((car['Price'] <= 500) | (car['Price'] >= 100000))]"
   ]
  },
  {
   "cell_type": "code",
   "execution_count": 39,
   "id": "ea59450d",
   "metadata": {},
   "outputs": [
    {
     "name": "stderr",
     "output_type": "stream",
     "text": [
      "C:\\Users\\Subhojit\\anaconda3\\lib\\site-packages\\seaborn\\distributions.py:2619: FutureWarning: `distplot` is a deprecated function and will be removed in a future version. Please adapt your code to use either `displot` (a figure-level function with similar flexibility) or `histplot` (an axes-level function for histograms).\n",
      "  warnings.warn(msg, FutureWarning)\n"
     ]
    },
    {
     "data": {
      "text/plain": [
       "<AxesSubplot:xlabel='Price', ylabel='Density'>"
      ]
     },
     "execution_count": 39,
     "metadata": {},
     "output_type": "execute_result"
    },
    {
     "data": {
      "image/png": "[encoded data removed]",
      "text/plain": [
       "<Figure size 432x288 with 1 Axes>"
      ]
     },
     "metadata": {
      "needs_background": "light"
     },
     "output_type": "display_data"
    }
   ],
   "source": [
    "sns.distplot(car['Price'])"
   ]
  },
  {
   "cell_type": "code",
   "execution_count": 40,
   "id": "3f4977fd",
   "metadata": {},
   "outputs": [
    {
     "name": "stderr",
     "output_type": "stream",
     "text": [
      "C:\\Users\\Subhojit\\anaconda3\\lib\\site-packages\\seaborn\\distributions.py:2619: FutureWarning: `distplot` is a deprecated function and will be removed in a future version. Please adapt your code to use either `displot` (a figure-level function with similar flexibility) or `histplot` (an axes-level function for histograms).\n",
      "  warnings.warn(msg, FutureWarning)\n"
     ]
    },
    {
     "data": {
      "text/plain": [
       "<AxesSubplot:xlabel='Price', ylabel='Density'>"
      ]
     },
     "execution_count": 40,
     "metadata": {},
     "output_type": "execute_result"
    },
    {
     "data": {
      "image/png": "[encoded data removed]",
      "text/plain": [
       "<Figure size 432x288 with 1 Axes>"
      ]
     },
     "metadata": {
      "needs_background": "light"
     },
     "output_type": "display_data"
    }
   ],
   "source": [
    "sns.distplot(np.log(car['Price']))"
   ]
  },
  {
   "cell_type": "code",
   "execution_count": 41,
   "id": "91e3ec16",
   "metadata": {},
   "outputs": [],
   "source": [
    "# Remove 'km' from Mileage and convert to integer\n",
    "car['Mileage'] = car['Mileage'].str.replace(' km', '').astype(int)"
   ]
  },
  {
   "cell_type": "code",
   "execution_count": 42,
   "id": "b932c75f",
   "metadata": {},
   "outputs": [
    {
     "name": "stdout",
     "output_type": "stream",
     "text": [
      "<class 'pandas.core.frame.DataFrame'>\n",
      "Int64Index: 17457 entries, 0 to 19235\n",
      "Data columns (total 18 columns):\n",
      " #   Column            Non-Null Count  Dtype  \n",
      "---  ------            --------------  -----  \n",
      " 0   ID                17457 non-null  int64  \n",
      " 1   Price             17457 non-null  int64  \n",
      " 2   Levy              17457 non-null  object \n",
      " 3   Manufacturer      17457 non-null  object \n",
      " 4   Model             17457 non-null  object \n",
      " 5   Prod. year        17457 non-null  int64  \n",
      " 6   Category          17457 non-null  object \n",
      " 7   Leather interior  17457 non-null  object \n",
      " 8   Fuel type         17457 non-null  object \n",
      " 9   Engine volume     17457 non-null  object \n",
      " 10  Mileage           17457 non-null  int32  \n",
      " 11  Cylinders         17457 non-null  float64\n",
      " 12  Gear box type     17457 non-null  object \n",
      " 13  Drive wheels      17457 non-null  object \n",
      " 14  Doors             17457 non-null  object \n",
      " 15  Wheel             17457 non-null  object \n",
      " 16  Color             17457 non-null  object \n",
      " 17  Airbags           17457 non-null  int64  \n",
      "dtypes: float64(1), int32(1), int64(4), object(12)\n",
      "memory usage: 2.5+ MB\n"
     ]
    }
   ],
   "source": [
    "car.info()"
   ]
  },
  {
   "cell_type": "code",
   "execution_count": 43,
   "id": "511808c3",
   "metadata": {},
   "outputs": [],
   "source": [
    "counts = car['Manufacturer'].value_counts()\n",
    "mask = counts >= 10\n",
    "selected_manufacturers = counts[mask].index\n",
    "car = car.loc[car['Manufacturer'].isin(selected_manufacturers)]\n"
   ]
  },
  {
   "cell_type": "code",
   "execution_count": 44,
   "id": "f0faf218",
   "metadata": {},
   "outputs": [],
   "source": [
    "car['Levy']=car['Levy'].replace('-',0)\n",
    "car['Levy']=car['Levy'].astype(int)"
   ]
  },
  {
   "cell_type": "code",
   "execution_count": 45,
   "id": "e758babb",
   "metadata": {},
   "outputs": [],
   "source": [
    "car['Doors']=car['Doors'].str.replace('04-May','4')\n",
    "car['Doors']=car['Doors'].str.replace('02-Mar','2')\n",
    "car['Doors']=car['Doors'].str.replace('>5','5')"
   ]
  },
  {
   "cell_type": "code",
   "execution_count": 46,
   "id": "62598772",
   "metadata": {},
   "outputs": [],
   "source": [
    "car['Doors']=car['Doors'].astype(int)"
   ]
  },
  {
   "cell_type": "code",
   "execution_count": 47,
   "id": "3a35b6f8",
   "metadata": {},
   "outputs": [],
   "source": [
    "# Get the value counts of the 'Cylinders' column\n",
    "counts = car['Cylinders'].value_counts()\n",
    "\n",
    "# Filter the counts to keep only the values with a count of 5 or greater\n",
    "filtered_counts = counts[counts >= 5]\n",
    "\n",
    "# Get the list of values that meet the filter criteria\n",
    "values_to_keep = filtered_counts.index.tolist()\n",
    "\n",
    "# Filter the 'Cylinders' column to keep only the desired values\n",
    "car = car[car['Cylinders'].isin(values_to_keep)]\n"
   ]
  },
  {
   "cell_type": "code",
   "execution_count": 48,
   "id": "6f2b80f2",
   "metadata": {},
   "outputs": [],
   "source": [
    "car = car[car['Fuel type'] != 'Hydrogen']"
   ]
  },
  {
   "cell_type": "code",
   "execution_count": 49,
   "id": "7969e27b",
   "metadata": {},
   "outputs": [],
   "source": [
    "car['Drive wheels']=car['Drive wheels'].str.replace('4x4','Others')"
   ]
  },
  {
   "cell_type": "code",
   "execution_count": 50,
   "id": "326da36e",
   "metadata": {},
   "outputs": [
    {
     "name": "stdout",
     "output_type": "stream",
     "text": [
      "Maximun kms driven of a Car:  2147483647\n",
      "Minimum kms driven of a Car:  0\n",
      "No of Cars with 0 kms driven:   591\n",
      " No of Cars with more than 100000 kms driven:  10873\n"
     ]
    }
   ],
   "source": [
    "print(\"Maximun kms driven of a Car: \"  ,car['Mileage'].max())\n",
    "print(\"Minimum kms driven of a Car: \"  ,car['Mileage'].min())\n",
    "print(\"No of Cars with 0 kms driven:  \"  ,len(car[car['Mileage'] ==0]))\n",
    "print(\" No of Cars with more than 100000 kms driven: \"  ,len(car[car['Mileage'] > 100000]))"
   ]
  },
  {
   "cell_type": "code",
   "execution_count": 51,
   "id": "41180ca1",
   "metadata": {
    "scrolled": false
   },
   "outputs": [
    {
     "name": "stderr",
     "output_type": "stream",
     "text": [
      "C:\\Users\\Subhojit\\anaconda3\\lib\\site-packages\\seaborn\\distributions.py:2619: FutureWarning: `distplot` is a deprecated function and will be removed in a future version. Please adapt your code to use either `displot` (a figure-level function with similar flexibility) or `histplot` (an axes-level function for histograms).\n",
      "  warnings.warn(msg, FutureWarning)\n"
     ]
    },
    {
     "data": {
      "text/plain": [
       "<AxesSubplot:xlabel='Mileage', ylabel='Density'>"
      ]
     },
     "execution_count": 51,
     "metadata": {},
     "output_type": "execute_result"
    },
    {
     "data": {
      "image/png": "[encoded data removed]",
      "text/plain": [
       "<Figure size 432x288 with 1 Axes>"
      ]
     },
     "metadata": {
      "needs_background": "light"
     },
     "output_type": "display_data"
    }
   ],
   "source": [
    "sns.distplot(car['Mileage'])"
   ]
  },
  {
   "cell_type": "code",
   "execution_count": null,
   "id": "92ed2e85",
   "metadata": {},
   "outputs": [],
   "source": []
  },
  {
   "cell_type": "code",
   "execution_count": 52,
   "id": "ab2706c2",
   "metadata": {},
   "outputs": [
    {
     "name": "stdout",
     "output_type": "stream",
     "text": [
      "<class 'pandas.core.series.Series'>\n",
      "Int64Index: 17397 entries, 0 to 19235\n",
      "Series name: Mileage\n",
      "Non-Null Count  Dtype\n",
      "--------------  -----\n",
      "17397 non-null  int32\n",
      "dtypes: int32(1)\n",
      "memory usage: 203.9 KB\n"
     ]
    }
   ],
   "source": [
    "car['Mileage'].info()"
   ]
  },
  {
   "cell_type": "code",
   "execution_count": null,
   "id": "ca842c0b",
   "metadata": {},
   "outputs": [],
   "source": []
  },
  {
   "cell_type": "code",
   "execution_count": 53,
   "id": "e251a30b",
   "metadata": {
    "scrolled": true
   },
   "outputs": [
    {
     "name": "stderr",
     "output_type": "stream",
     "text": [
      "C:\\Users\\Subhojit\\anaconda3\\lib\\site-packages\\pandas\\core\\arraylike.py:397: RuntimeWarning: divide by zero encountered in log\n",
      "  result = getattr(ufunc, method)(*inputs, **kwargs)\n"
     ]
    },
    {
     "data": {
      "text/plain": [
       "<AxesSubplot:xlabel='Mileage', ylabel='Count'>"
      ]
     },
     "execution_count": 53,
     "metadata": {},
     "output_type": "execute_result"
    },
    {
     "data": {
      "image/png": "[encoded data removed]",
      "text/plain": [
       "<Figure size 432x288 with 1 Axes>"
      ]
     },
     "metadata": {
      "needs_background": "light"
     },
     "output_type": "display_data"
    }
   ],
   "source": [
    "sns.histplot(np.log(car['Mileage']))"
   ]
  },
  {
   "cell_type": "code",
   "execution_count": 54,
   "id": "859adf19",
   "metadata": {},
   "outputs": [
    {
     "data": {
      "text/html": [
       "<div>\n",
       "<style scoped>\n",
       "    .dataframe tbody tr th:only-of-type {\n",
       "        vertical-align: middle;\n",
       "    }\n",
       "\n",
       "    .dataframe tbody tr th {\n",
       "        vertical-align: top;\n",
       "    }\n",
       "\n",
       "    .dataframe thead th {\n",
       "        text-align: right;\n",
       "    }\n",
       "</style>\n",
       "<table border=\"1\" class=\"dataframe\">\n",
       "  <thead>\n",
       "    <tr style=\"text-align: right;\">\n",
       "      <th></th>\n",
       "      <th>ID</th>\n",
       "      <th>Price</th>\n",
       "      <th>Levy</th>\n",
       "      <th>Manufacturer</th>\n",
       "      <th>Model</th>\n",
       "      <th>Prod. year</th>\n",
       "      <th>Category</th>\n",
       "      <th>Leather interior</th>\n",
       "      <th>Fuel type</th>\n",
       "      <th>Engine volume</th>\n",
       "      <th>Mileage</th>\n",
       "      <th>Cylinders</th>\n",
       "      <th>Gear box type</th>\n",
       "      <th>Drive wheels</th>\n",
       "      <th>Doors</th>\n",
       "      <th>Wheel</th>\n",
       "      <th>Color</th>\n",
       "      <th>Airbags</th>\n",
       "    </tr>\n",
       "  </thead>\n",
       "  <tbody>\n",
       "    <tr>\n",
       "      <th>0</th>\n",
       "      <td>45654403</td>\n",
       "      <td>13328</td>\n",
       "      <td>1399</td>\n",
       "      <td>LEXUS</td>\n",
       "      <td>RX 450</td>\n",
       "      <td>2010</td>\n",
       "      <td>Jeep</td>\n",
       "      <td>Yes</td>\n",
       "      <td>Hybrid</td>\n",
       "      <td>3.5</td>\n",
       "      <td>186005</td>\n",
       "      <td>6.0</td>\n",
       "      <td>Automatic</td>\n",
       "      <td>Others</td>\n",
       "      <td>4</td>\n",
       "      <td>Left wheel</td>\n",
       "      <td>Silver</td>\n",
       "      <td>12</td>\n",
       "    </tr>\n",
       "    <tr>\n",
       "      <th>1</th>\n",
       "      <td>44731507</td>\n",
       "      <td>16621</td>\n",
       "      <td>1018</td>\n",
       "      <td>CHEVROLET</td>\n",
       "      <td>Equinox</td>\n",
       "      <td>2011</td>\n",
       "      <td>Jeep</td>\n",
       "      <td>No</td>\n",
       "      <td>Petrol</td>\n",
       "      <td>3</td>\n",
       "      <td>192000</td>\n",
       "      <td>6.0</td>\n",
       "      <td>Tiptronic</td>\n",
       "      <td>Others</td>\n",
       "      <td>4</td>\n",
       "      <td>Left wheel</td>\n",
       "      <td>Black</td>\n",
       "      <td>8</td>\n",
       "    </tr>\n",
       "    <tr>\n",
       "      <th>2</th>\n",
       "      <td>45774419</td>\n",
       "      <td>8467</td>\n",
       "      <td>0</td>\n",
       "      <td>HONDA</td>\n",
       "      <td>FIT</td>\n",
       "      <td>2006</td>\n",
       "      <td>Hatchback</td>\n",
       "      <td>No</td>\n",
       "      <td>Petrol</td>\n",
       "      <td>1.3</td>\n",
       "      <td>200000</td>\n",
       "      <td>4.0</td>\n",
       "      <td>Variator</td>\n",
       "      <td>Front</td>\n",
       "      <td>4</td>\n",
       "      <td>Right-hand drive</td>\n",
       "      <td>Black</td>\n",
       "      <td>2</td>\n",
       "    </tr>\n",
       "    <tr>\n",
       "      <th>3</th>\n",
       "      <td>45769185</td>\n",
       "      <td>3607</td>\n",
       "      <td>862</td>\n",
       "      <td>FORD</td>\n",
       "      <td>Escape</td>\n",
       "      <td>2011</td>\n",
       "      <td>Jeep</td>\n",
       "      <td>Yes</td>\n",
       "      <td>Hybrid</td>\n",
       "      <td>2.5</td>\n",
       "      <td>168966</td>\n",
       "      <td>4.0</td>\n",
       "      <td>Automatic</td>\n",
       "      <td>Others</td>\n",
       "      <td>4</td>\n",
       "      <td>Left wheel</td>\n",
       "      <td>White</td>\n",
       "      <td>0</td>\n",
       "    </tr>\n",
       "    <tr>\n",
       "      <th>4</th>\n",
       "      <td>45809263</td>\n",
       "      <td>11726</td>\n",
       "      <td>446</td>\n",
       "      <td>HONDA</td>\n",
       "      <td>FIT</td>\n",
       "      <td>2014</td>\n",
       "      <td>Hatchback</td>\n",
       "      <td>Yes</td>\n",
       "      <td>Petrol</td>\n",
       "      <td>1.3</td>\n",
       "      <td>91901</td>\n",
       "      <td>4.0</td>\n",
       "      <td>Automatic</td>\n",
       "      <td>Front</td>\n",
       "      <td>4</td>\n",
       "      <td>Left wheel</td>\n",
       "      <td>Silver</td>\n",
       "      <td>4</td>\n",
       "    </tr>\n",
       "    <tr>\n",
       "      <th>...</th>\n",
       "      <td>...</td>\n",
       "      <td>...</td>\n",
       "      <td>...</td>\n",
       "      <td>...</td>\n",
       "      <td>...</td>\n",
       "      <td>...</td>\n",
       "      <td>...</td>\n",
       "      <td>...</td>\n",
       "      <td>...</td>\n",
       "      <td>...</td>\n",
       "      <td>...</td>\n",
       "      <td>...</td>\n",
       "      <td>...</td>\n",
       "      <td>...</td>\n",
       "      <td>...</td>\n",
       "      <td>...</td>\n",
       "      <td>...</td>\n",
       "      <td>...</td>\n",
       "    </tr>\n",
       "    <tr>\n",
       "      <th>19231</th>\n",
       "      <td>45772306</td>\n",
       "      <td>5802</td>\n",
       "      <td>1055</td>\n",
       "      <td>MERCEDES-BENZ</td>\n",
       "      <td>E 350</td>\n",
       "      <td>2013</td>\n",
       "      <td>Sedan</td>\n",
       "      <td>Yes</td>\n",
       "      <td>Diesel</td>\n",
       "      <td>3.5</td>\n",
       "      <td>107800</td>\n",
       "      <td>6.0</td>\n",
       "      <td>Automatic</td>\n",
       "      <td>Rear</td>\n",
       "      <td>4</td>\n",
       "      <td>Left wheel</td>\n",
       "      <td>Grey</td>\n",
       "      <td>12</td>\n",
       "    </tr>\n",
       "    <tr>\n",
       "      <th>19232</th>\n",
       "      <td>45798355</td>\n",
       "      <td>8467</td>\n",
       "      <td>0</td>\n",
       "      <td>MERCEDES-BENZ</td>\n",
       "      <td>CLK 200</td>\n",
       "      <td>1999</td>\n",
       "      <td>Coupe</td>\n",
       "      <td>Yes</td>\n",
       "      <td>CNG</td>\n",
       "      <td>2.0 Turbo</td>\n",
       "      <td>300000</td>\n",
       "      <td>4.0</td>\n",
       "      <td>Manual</td>\n",
       "      <td>Rear</td>\n",
       "      <td>2</td>\n",
       "      <td>Left wheel</td>\n",
       "      <td>Silver</td>\n",
       "      <td>5</td>\n",
       "    </tr>\n",
       "    <tr>\n",
       "      <th>19233</th>\n",
       "      <td>45778856</td>\n",
       "      <td>15681</td>\n",
       "      <td>831</td>\n",
       "      <td>HYUNDAI</td>\n",
       "      <td>Sonata</td>\n",
       "      <td>2011</td>\n",
       "      <td>Sedan</td>\n",
       "      <td>Yes</td>\n",
       "      <td>Petrol</td>\n",
       "      <td>2.4</td>\n",
       "      <td>161600</td>\n",
       "      <td>4.0</td>\n",
       "      <td>Tiptronic</td>\n",
       "      <td>Front</td>\n",
       "      <td>4</td>\n",
       "      <td>Left wheel</td>\n",
       "      <td>Red</td>\n",
       "      <td>8</td>\n",
       "    </tr>\n",
       "    <tr>\n",
       "      <th>19234</th>\n",
       "      <td>45804997</td>\n",
       "      <td>26108</td>\n",
       "      <td>836</td>\n",
       "      <td>HYUNDAI</td>\n",
       "      <td>Tucson</td>\n",
       "      <td>2010</td>\n",
       "      <td>Jeep</td>\n",
       "      <td>Yes</td>\n",
       "      <td>Diesel</td>\n",
       "      <td>2</td>\n",
       "      <td>116365</td>\n",
       "      <td>4.0</td>\n",
       "      <td>Automatic</td>\n",
       "      <td>Front</td>\n",
       "      <td>4</td>\n",
       "      <td>Left wheel</td>\n",
       "      <td>Grey</td>\n",
       "      <td>4</td>\n",
       "    </tr>\n",
       "    <tr>\n",
       "      <th>19235</th>\n",
       "      <td>45793526</td>\n",
       "      <td>5331</td>\n",
       "      <td>1288</td>\n",
       "      <td>CHEVROLET</td>\n",
       "      <td>Captiva</td>\n",
       "      <td>2007</td>\n",
       "      <td>Jeep</td>\n",
       "      <td>Yes</td>\n",
       "      <td>Diesel</td>\n",
       "      <td>2</td>\n",
       "      <td>51258</td>\n",
       "      <td>4.0</td>\n",
       "      <td>Automatic</td>\n",
       "      <td>Front</td>\n",
       "      <td>4</td>\n",
       "      <td>Left wheel</td>\n",
       "      <td>Black</td>\n",
       "      <td>4</td>\n",
       "    </tr>\n",
       "  </tbody>\n",
       "</table>\n",
       "<p>17397 rows × 18 columns</p>\n",
       "</div>"
      ],
      "text/plain": [
       "             ID  Price  Levy   Manufacturer    Model  Prod. year   Category  \\\n",
       "0      45654403  13328  1399          LEXUS   RX 450        2010       Jeep   \n",
       "1      44731507  16621  1018      CHEVROLET  Equinox        2011       Jeep   \n",
       "2      45774419   8467     0          HONDA      FIT        2006  Hatchback   \n",
       "3      45769185   3607   862           FORD   Escape        2011       Jeep   \n",
       "4      45809263  11726   446          HONDA      FIT        2014  Hatchback   \n",
       "...         ...    ...   ...            ...      ...         ...        ...   \n",
       "19231  45772306   5802  1055  MERCEDES-BENZ    E 350        2013      Sedan   \n",
       "19232  45798355   8467     0  MERCEDES-BENZ  CLK 200        1999      Coupe   \n",
       "19233  45778856  15681   831        HYUNDAI   Sonata        2011      Sedan   \n",
       "19234  45804997  26108   836        HYUNDAI   Tucson        2010       Jeep   \n",
       "19235  45793526   5331  1288      CHEVROLET  Captiva        2007       Jeep   \n",
       "\n",
       "      Leather interior Fuel type Engine volume  Mileage  Cylinders  \\\n",
       "0                  Yes    Hybrid           3.5   186005        6.0   \n",
       "1                   No    Petrol             3   192000        6.0   \n",
       "2                   No    Petrol           1.3   200000        4.0   \n",
       "3                  Yes    Hybrid           2.5   168966        4.0   \n",
       "4                  Yes    Petrol           1.3    91901        4.0   \n",
       "...                ...       ...           ...      ...        ...   \n",
       "19231              Yes    Diesel           3.5   107800        6.0   \n",
       "19232              Yes       CNG     2.0 Turbo   300000        4.0   \n",
       "19233              Yes    Petrol           2.4   161600        4.0   \n",
       "19234              Yes    Diesel             2   116365        4.0   \n",
       "19235              Yes    Diesel             2    51258        4.0   \n",
       "\n",
       "      Gear box type Drive wheels  Doors             Wheel   Color  Airbags  \n",
       "0         Automatic       Others      4        Left wheel  Silver       12  \n",
       "1         Tiptronic       Others      4        Left wheel   Black        8  \n",
       "2          Variator        Front      4  Right-hand drive   Black        2  \n",
       "3         Automatic       Others      4        Left wheel   White        0  \n",
       "4         Automatic        Front      4        Left wheel  Silver        4  \n",
       "...             ...          ...    ...               ...     ...      ...  \n",
       "19231     Automatic         Rear      4        Left wheel    Grey       12  \n",
       "19232        Manual         Rear      2        Left wheel  Silver        5  \n",
       "19233     Tiptronic        Front      4        Left wheel     Red        8  \n",
       "19234     Automatic        Front      4        Left wheel    Grey        4  \n",
       "19235     Automatic        Front      4        Left wheel   Black        4  \n",
       "\n",
       "[17397 rows x 18 columns]"
      ]
     },
     "execution_count": 54,
     "metadata": {},
     "output_type": "execute_result"
    }
   ],
   "source": [
    "car"
   ]
  },
  {
   "cell_type": "code",
   "execution_count": 55,
   "id": "7add9dc9",
   "metadata": {},
   "outputs": [],
   "source": [
    "# Create a new column called 'Turbo' based on the 'Engine volume' column\n",
    "car['Turbo'] = car['Engine volume'].str.contains('Turbo').astype(int)\n"
   ]
  },
  {
   "cell_type": "code",
   "execution_count": 56,
   "id": "c2dc540f",
   "metadata": {},
   "outputs": [
    {
     "data": {
      "text/html": [
       "<div>\n",
       "<style scoped>\n",
       "    .dataframe tbody tr th:only-of-type {\n",
       "        vertical-align: middle;\n",
       "    }\n",
       "\n",
       "    .dataframe tbody tr th {\n",
       "        vertical-align: top;\n",
       "    }\n",
       "\n",
       "    .dataframe thead th {\n",
       "        text-align: right;\n",
       "    }\n",
       "</style>\n",
       "<table border=\"1\" class=\"dataframe\">\n",
       "  <thead>\n",
       "    <tr style=\"text-align: right;\">\n",
       "      <th></th>\n",
       "      <th>ID</th>\n",
       "      <th>Price</th>\n",
       "      <th>Levy</th>\n",
       "      <th>Manufacturer</th>\n",
       "      <th>Model</th>\n",
       "      <th>Prod. year</th>\n",
       "      <th>Category</th>\n",
       "      <th>Leather interior</th>\n",
       "      <th>Fuel type</th>\n",
       "      <th>Engine volume</th>\n",
       "      <th>Mileage</th>\n",
       "      <th>Cylinders</th>\n",
       "      <th>Gear box type</th>\n",
       "      <th>Drive wheels</th>\n",
       "      <th>Doors</th>\n",
       "      <th>Wheel</th>\n",
       "      <th>Color</th>\n",
       "      <th>Airbags</th>\n",
       "      <th>Turbo</th>\n",
       "    </tr>\n",
       "  </thead>\n",
       "  <tbody>\n",
       "    <tr>\n",
       "      <th>5065</th>\n",
       "      <td>45732089</td>\n",
       "      <td>50184</td>\n",
       "      <td>891</td>\n",
       "      <td>HYUNDAI</td>\n",
       "      <td>Santa FE</td>\n",
       "      <td>2016</td>\n",
       "      <td>Jeep</td>\n",
       "      <td>Yes</td>\n",
       "      <td>Diesel</td>\n",
       "      <td>2</td>\n",
       "      <td>122497</td>\n",
       "      <td>4.0</td>\n",
       "      <td>Automatic</td>\n",
       "      <td>Front</td>\n",
       "      <td>4</td>\n",
       "      <td>Left wheel</td>\n",
       "      <td>Blue</td>\n",
       "      <td>4</td>\n",
       "      <td>0</td>\n",
       "    </tr>\n",
       "    <tr>\n",
       "      <th>1981</th>\n",
       "      <td>45539313</td>\n",
       "      <td>19444</td>\n",
       "      <td>0</td>\n",
       "      <td>TOYOTA</td>\n",
       "      <td>Prius</td>\n",
       "      <td>2013</td>\n",
       "      <td>Sedan</td>\n",
       "      <td>No</td>\n",
       "      <td>Hybrid</td>\n",
       "      <td>1.8</td>\n",
       "      <td>97386</td>\n",
       "      <td>4.0</td>\n",
       "      <td>Variator</td>\n",
       "      <td>Front</td>\n",
       "      <td>4</td>\n",
       "      <td>Left wheel</td>\n",
       "      <td>Red</td>\n",
       "      <td>8</td>\n",
       "      <td>0</td>\n",
       "    </tr>\n",
       "    <tr>\n",
       "      <th>12058</th>\n",
       "      <td>45764104</td>\n",
       "      <td>30734</td>\n",
       "      <td>2151</td>\n",
       "      <td>LEXUS</td>\n",
       "      <td>GX 470</td>\n",
       "      <td>2009</td>\n",
       "      <td>Jeep</td>\n",
       "      <td>Yes</td>\n",
       "      <td>Petrol</td>\n",
       "      <td>4.7</td>\n",
       "      <td>264339</td>\n",
       "      <td>8.0</td>\n",
       "      <td>Automatic</td>\n",
       "      <td>Others</td>\n",
       "      <td>4</td>\n",
       "      <td>Left wheel</td>\n",
       "      <td>Black</td>\n",
       "      <td>0</td>\n",
       "      <td>0</td>\n",
       "    </tr>\n",
       "    <tr>\n",
       "      <th>967</th>\n",
       "      <td>45503321</td>\n",
       "      <td>14269</td>\n",
       "      <td>0</td>\n",
       "      <td>HONDA</td>\n",
       "      <td>FIT Sport</td>\n",
       "      <td>2009</td>\n",
       "      <td>Hatchback</td>\n",
       "      <td>No</td>\n",
       "      <td>Petrol</td>\n",
       "      <td>1.5</td>\n",
       "      <td>198000</td>\n",
       "      <td>4.0</td>\n",
       "      <td>Automatic</td>\n",
       "      <td>Front</td>\n",
       "      <td>4</td>\n",
       "      <td>Left wheel</td>\n",
       "      <td>Blue</td>\n",
       "      <td>0</td>\n",
       "      <td>0</td>\n",
       "    </tr>\n",
       "    <tr>\n",
       "      <th>9128</th>\n",
       "      <td>45768086</td>\n",
       "      <td>26030</td>\n",
       "      <td>382</td>\n",
       "      <td>CHEVROLET</td>\n",
       "      <td>Volt</td>\n",
       "      <td>2017</td>\n",
       "      <td>Hatchback</td>\n",
       "      <td>Yes</td>\n",
       "      <td>Hybrid</td>\n",
       "      <td>1.5</td>\n",
       "      <td>52062</td>\n",
       "      <td>4.0</td>\n",
       "      <td>Automatic</td>\n",
       "      <td>Front</td>\n",
       "      <td>4</td>\n",
       "      <td>Left wheel</td>\n",
       "      <td>Blue</td>\n",
       "      <td>0</td>\n",
       "      <td>0</td>\n",
       "    </tr>\n",
       "    <tr>\n",
       "      <th>3688</th>\n",
       "      <td>45749892</td>\n",
       "      <td>11290</td>\n",
       "      <td>0</td>\n",
       "      <td>TOYOTA</td>\n",
       "      <td>Prius</td>\n",
       "      <td>2008</td>\n",
       "      <td>Sedan</td>\n",
       "      <td>No</td>\n",
       "      <td>Hybrid</td>\n",
       "      <td>1.5</td>\n",
       "      <td>173000</td>\n",
       "      <td>4.0</td>\n",
       "      <td>Variator</td>\n",
       "      <td>Front</td>\n",
       "      <td>4</td>\n",
       "      <td>Left wheel</td>\n",
       "      <td>Blue</td>\n",
       "      <td>8</td>\n",
       "      <td>0</td>\n",
       "    </tr>\n",
       "    <tr>\n",
       "      <th>12984</th>\n",
       "      <td>45802265</td>\n",
       "      <td>26594</td>\n",
       "      <td>777</td>\n",
       "      <td>HYUNDAI</td>\n",
       "      <td>H1</td>\n",
       "      <td>2014</td>\n",
       "      <td>Minivan</td>\n",
       "      <td>Yes</td>\n",
       "      <td>Diesel</td>\n",
       "      <td>2.5</td>\n",
       "      <td>179918</td>\n",
       "      <td>4.0</td>\n",
       "      <td>Automatic</td>\n",
       "      <td>Front</td>\n",
       "      <td>4</td>\n",
       "      <td>Left wheel</td>\n",
       "      <td>Silver</td>\n",
       "      <td>4</td>\n",
       "      <td>0</td>\n",
       "    </tr>\n",
       "    <tr>\n",
       "      <th>1947</th>\n",
       "      <td>45788812</td>\n",
       "      <td>11604</td>\n",
       "      <td>761</td>\n",
       "      <td>TOYOTA</td>\n",
       "      <td>Prius</td>\n",
       "      <td>2010</td>\n",
       "      <td>Sedan</td>\n",
       "      <td>No</td>\n",
       "      <td>Hybrid</td>\n",
       "      <td>1.8</td>\n",
       "      <td>154000</td>\n",
       "      <td>4.0</td>\n",
       "      <td>Automatic</td>\n",
       "      <td>Front</td>\n",
       "      <td>4</td>\n",
       "      <td>Left wheel</td>\n",
       "      <td>Grey</td>\n",
       "      <td>10</td>\n",
       "      <td>0</td>\n",
       "    </tr>\n",
       "    <tr>\n",
       "      <th>1650</th>\n",
       "      <td>45757747</td>\n",
       "      <td>627</td>\n",
       "      <td>586</td>\n",
       "      <td>LEXUS</td>\n",
       "      <td>CT 200h</td>\n",
       "      <td>2012</td>\n",
       "      <td>Hatchback</td>\n",
       "      <td>Yes</td>\n",
       "      <td>Hybrid</td>\n",
       "      <td>1.8</td>\n",
       "      <td>192683</td>\n",
       "      <td>4.0</td>\n",
       "      <td>Automatic</td>\n",
       "      <td>Front</td>\n",
       "      <td>4</td>\n",
       "      <td>Left wheel</td>\n",
       "      <td>White</td>\n",
       "      <td>0</td>\n",
       "      <td>0</td>\n",
       "    </tr>\n",
       "    <tr>\n",
       "      <th>7654</th>\n",
       "      <td>45610411</td>\n",
       "      <td>21326</td>\n",
       "      <td>1108</td>\n",
       "      <td>FORD</td>\n",
       "      <td>Mustang cabrio</td>\n",
       "      <td>2014</td>\n",
       "      <td>Cabriolet</td>\n",
       "      <td>No</td>\n",
       "      <td>Petrol</td>\n",
       "      <td>3.7</td>\n",
       "      <td>111431</td>\n",
       "      <td>6.0</td>\n",
       "      <td>Automatic</td>\n",
       "      <td>Rear</td>\n",
       "      <td>2</td>\n",
       "      <td>Left wheel</td>\n",
       "      <td>Grey</td>\n",
       "      <td>10</td>\n",
       "      <td>0</td>\n",
       "    </tr>\n",
       "  </tbody>\n",
       "</table>\n",
       "</div>"
      ],
      "text/plain": [
       "             ID  Price  Levy Manufacturer           Model  Prod. year  \\\n",
       "5065   45732089  50184   891      HYUNDAI        Santa FE        2016   \n",
       "1981   45539313  19444     0       TOYOTA           Prius        2013   \n",
       "12058  45764104  30734  2151        LEXUS          GX 470        2009   \n",
       "967    45503321  14269     0        HONDA       FIT Sport        2009   \n",
       "9128   45768086  26030   382    CHEVROLET            Volt        2017   \n",
       "3688   45749892  11290     0       TOYOTA           Prius        2008   \n",
       "12984  45802265  26594   777      HYUNDAI              H1        2014   \n",
       "1947   45788812  11604   761       TOYOTA           Prius        2010   \n",
       "1650   45757747    627   586        LEXUS         CT 200h        2012   \n",
       "7654   45610411  21326  1108         FORD  Mustang cabrio        2014   \n",
       "\n",
       "        Category Leather interior Fuel type Engine volume  Mileage  Cylinders  \\\n",
       "5065        Jeep              Yes    Diesel             2   122497        4.0   \n",
       "1981       Sedan               No    Hybrid           1.8    97386        4.0   \n",
       "12058       Jeep              Yes    Petrol           4.7   264339        8.0   \n",
       "967    Hatchback               No    Petrol           1.5   198000        4.0   \n",
       "9128   Hatchback              Yes    Hybrid           1.5    52062        4.0   \n",
       "3688       Sedan               No    Hybrid           1.5   173000        4.0   \n",
       "12984    Minivan              Yes    Diesel           2.5   179918        4.0   \n",
       "1947       Sedan               No    Hybrid           1.8   154000        4.0   \n",
       "1650   Hatchback              Yes    Hybrid           1.8   192683        4.0   \n",
       "7654   Cabriolet               No    Petrol           3.7   111431        6.0   \n",
       "\n",
       "      Gear box type Drive wheels  Doors       Wheel   Color  Airbags  Turbo  \n",
       "5065      Automatic        Front      4  Left wheel    Blue        4      0  \n",
       "1981       Variator        Front      4  Left wheel     Red        8      0  \n",
       "12058     Automatic       Others      4  Left wheel   Black        0      0  \n",
       "967       Automatic        Front      4  Left wheel    Blue        0      0  \n",
       "9128      Automatic        Front      4  Left wheel    Blue        0      0  \n",
       "3688       Variator        Front      4  Left wheel    Blue        8      0  \n",
       "12984     Automatic        Front      4  Left wheel  Silver        4      0  \n",
       "1947      Automatic        Front      4  Left wheel    Grey       10      0  \n",
       "1650      Automatic        Front      4  Left wheel   White        0      0  \n",
       "7654      Automatic         Rear      2  Left wheel    Grey       10      0  "
      ]
     },
     "execution_count": 56,
     "metadata": {},
     "output_type": "execute_result"
    }
   ],
   "source": [
    "car.sample(10)\n"
   ]
  },
  {
   "cell_type": "code",
   "execution_count": null,
   "id": "a6061f77",
   "metadata": {},
   "outputs": [],
   "source": []
  },
  {
   "cell_type": "code",
   "execution_count": 57,
   "id": "9d43486e",
   "metadata": {},
   "outputs": [],
   "source": [
    "# Remove 'Turbo' suffix from values in 'Engine volume' column\n",
    "car['Engine volume'] = car['Engine volume'].str.replace(' Turbo', '')\n",
    "\n",
    "# Convert values in 'Engine volume' column to float\n",
    "car['Engine volume'] = car['Engine volume'].astype(float)"
   ]
  },
  {
   "cell_type": "code",
   "execution_count": 58,
   "id": "d4822f8e",
   "metadata": {},
   "outputs": [
    {
     "name": "stdout",
     "output_type": "stream",
     "text": [
      "<class 'pandas.core.frame.DataFrame'>\n",
      "Int64Index: 17397 entries, 0 to 19235\n",
      "Data columns (total 19 columns):\n",
      " #   Column            Non-Null Count  Dtype  \n",
      "---  ------            --------------  -----  \n",
      " 0   ID                17397 non-null  int64  \n",
      " 1   Price             17397 non-null  int64  \n",
      " 2   Levy              17397 non-null  int32  \n",
      " 3   Manufacturer      17397 non-null  object \n",
      " 4   Model             17397 non-null  object \n",
      " 5   Prod. year        17397 non-null  int64  \n",
      " 6   Category          17397 non-null  object \n",
      " 7   Leather interior  17397 non-null  object \n",
      " 8   Fuel type         17397 non-null  object \n",
      " 9   Engine volume     17397 non-null  float64\n",
      " 10  Mileage           17397 non-null  int32  \n",
      " 11  Cylinders         17397 non-null  float64\n",
      " 12  Gear box type     17397 non-null  object \n",
      " 13  Drive wheels      17397 non-null  object \n",
      " 14  Doors             17397 non-null  int32  \n",
      " 15  Wheel             17397 non-null  object \n",
      " 16  Color             17397 non-null  object \n",
      " 17  Airbags           17397 non-null  int64  \n",
      " 18  Turbo             17397 non-null  int32  \n",
      "dtypes: float64(2), int32(4), int64(4), object(9)\n",
      "memory usage: 2.4+ MB\n"
     ]
    }
   ],
   "source": [
    "car.info()"
   ]
  },
  {
   "cell_type": "code",
   "execution_count": null,
   "id": "dab48e14",
   "metadata": {},
   "outputs": [],
   "source": []
  },
  {
   "cell_type": "markdown",
   "id": "4efd2c14",
   "metadata": {},
   "source": [
    "# EDA"
   ]
  },
  {
   "cell_type": "code",
   "execution_count": 59,
   "id": "bc616dbb",
   "metadata": {},
   "outputs": [
    {
     "data": {
      "image/png": "[encoded data removed]",
      "text/plain": [
       "<Figure size 1152x576 with 6 Axes>"
      ]
     },
     "metadata": {
      "needs_background": "light"
     },
     "output_type": "display_data"
    }
   ],
   "source": [
    "fig, axs = plt.subplots(nrows=3, ncols=2, figsize=(16, 8))\n",
    "columns = ['Category', 'Fuel type', 'Cylinders', 'Gear box type', 'Airbags', 'Color']\n",
    "colors = ['r', 'g', 'b', 'c', 'm', 'y']\n",
    "\n",
    "for i, column in enumerate(columns):\n",
    "    row = i // 2\n",
    "    col = i % 2\n",
    "    car[column].value_counts().plot(kind='bar', ax=axs[row, col], color=colors[i % len(colors)])\n",
    "    axs[row, col].set_title(column)\n",
    "\n",
    "plt.tight_layout()\n",
    "plt.show()\n"
   ]
  },
  {
   "cell_type": "code",
   "execution_count": 60,
   "id": "d3fbdf57",
   "metadata": {},
   "outputs": [
    {
     "data": {
      "image/png": "[encoded data removed]",
      "text/plain": [
       "<Figure size 1152x576 with 4 Axes>"
      ]
     },
     "metadata": {},
     "output_type": "display_data"
    }
   ],
   "source": [
    "fig, axs = plt.subplots(nrows=2, ncols=2, figsize=(16,8))\n",
    "columns = ['Leather interior', 'Wheel', 'Doors', 'Turbo']\n",
    "colors = [[ 'green','blue', 'purple'], ['cyan', 'magenta', 'pink'], ['yellow', 'orange','red'],['lightblue', 'lime', 'grey']]\n",
    "\n",
    "for i, column in enumerate(columns):\n",
    "    row = i // 2\n",
    "    col = i % 2\n",
    "    car[column].value_counts().plot(kind='pie', ax=axs[row, col], colors=colors[i])\n",
    "    axs[row, col].set_title(column)\n",
    "\n",
    "plt.tight_layout()\n",
    "plt.show()\n"
   ]
  },
  {
   "cell_type": "code",
   "execution_count": 61,
   "id": "fe0613f8",
   "metadata": {},
   "outputs": [
    {
     "data": {
      "image/png": "[encoded data removed]",
      "text/plain": [
       "<Figure size 1152x720 with 3 Axes>"
      ]
     },
     "metadata": {
      "needs_background": "light"
     },
     "output_type": "display_data"
    }
   ],
   "source": [
    "fig, axs = plt.subplots(nrows=3, figsize=(16,10))\n",
    "car['Prod. year'].value_counts().plot(kind='bar',color='c',ax=axs[1])\n",
    "car['Manufacturer'].value_counts().plot(kind='bar',color='b',ax=axs[0])\n",
    "car['Engine volume'].value_counts().plot(kind='bar',color='purple',ax=axs[2])\n",
    "plt.subplots_adjust(hspace=0.7)"
   ]
  },
  {
   "cell_type": "code",
   "execution_count": null,
   "id": "3f8fc2d1",
   "metadata": {},
   "outputs": [],
   "source": []
  },
  {
   "cell_type": "code",
   "execution_count": 62,
   "id": "893a32fe",
   "metadata": {
    "scrolled": false
   },
   "outputs": [
    {
     "name": "stderr",
     "output_type": "stream",
     "text": [
      "C:\\Users\\Subhojit\\anaconda3\\lib\\site-packages\\seaborn\\distributions.py:2619: FutureWarning: `distplot` is a deprecated function and will be removed in a future version. Please adapt your code to use either `displot` (a figure-level function with similar flexibility) or `histplot` (an axes-level function for histograms).\n",
      "  warnings.warn(msg, FutureWarning)\n",
      "C:\\Users\\Subhojit\\anaconda3\\lib\\site-packages\\seaborn\\_decorators.py:36: FutureWarning: Pass the following variable as a keyword arg: x. From version 0.12, the only valid positional argument will be `data`, and passing other arguments without an explicit keyword will result in an error or misinterpretation.\n",
      "  warnings.warn(\n",
      "C:\\Users\\Subhojit\\anaconda3\\lib\\site-packages\\seaborn\\distributions.py:2619: FutureWarning: `distplot` is a deprecated function and will be removed in a future version. Please adapt your code to use either `displot` (a figure-level function with similar flexibility) or `histplot` (an axes-level function for histograms).\n",
      "  warnings.warn(msg, FutureWarning)\n",
      "C:\\Users\\Subhojit\\anaconda3\\lib\\site-packages\\seaborn\\distributions.py:2619: FutureWarning: `distplot` is a deprecated function and will be removed in a future version. Please adapt your code to use either `displot` (a figure-level function with similar flexibility) or `histplot` (an axes-level function for histograms).\n",
      "  warnings.warn(msg, FutureWarning)\n",
      "C:\\Users\\Subhojit\\anaconda3\\lib\\site-packages\\seaborn\\_decorators.py:36: FutureWarning: Pass the following variable as a keyword arg: x. From version 0.12, the only valid positional argument will be `data`, and passing other arguments without an explicit keyword will result in an error or misinterpretation.\n",
      "  warnings.warn(\n",
      "C:\\Users\\Subhojit\\anaconda3\\lib\\site-packages\\pandas\\core\\arraylike.py:397: RuntimeWarning: divide by zero encountered in log\n",
      "  result = getattr(ufunc, method)(*inputs, **kwargs)\n",
      "C:\\Users\\Subhojit\\anaconda3\\lib\\site-packages\\seaborn\\distributions.py:2619: FutureWarning: `distplot` is a deprecated function and will be removed in a future version. Please adapt your code to use either `displot` (a figure-level function with similar flexibility) or `histplot` (an axes-level function for histograms).\n",
      "  warnings.warn(msg, FutureWarning)\n",
      "C:\\Users\\Subhojit\\anaconda3\\lib\\site-packages\\seaborn\\_decorators.py:36: FutureWarning: Pass the following variable as a keyword arg: x. From version 0.12, the only valid positional argument will be `data`, and passing other arguments without an explicit keyword will result in an error or misinterpretation.\n",
      "  warnings.warn(\n",
      "C:\\Users\\Subhojit\\anaconda3\\lib\\site-packages\\pandas\\core\\arraylike.py:397: RuntimeWarning: divide by zero encountered in log\n",
      "  result = getattr(ufunc, method)(*inputs, **kwargs)\n",
      "C:\\Users\\Subhojit\\anaconda3\\lib\\site-packages\\seaborn\\distributions.py:2619: FutureWarning: `distplot` is a deprecated function and will be removed in a future version. Please adapt your code to use either `displot` (a figure-level function with similar flexibility) or `histplot` (an axes-level function for histograms).\n",
      "  warnings.warn(msg, FutureWarning)\n",
      "C:\\Users\\Subhojit\\anaconda3\\lib\\site-packages\\seaborn\\_decorators.py:36: FutureWarning: Pass the following variable as a keyword arg: x. From version 0.12, the only valid positional argument will be `data`, and passing other arguments without an explicit keyword will result in an error or misinterpretation.\n",
      "  warnings.warn(\n"
     ]
    },
    {
     "data": {
      "image/png": "[encoded data removed]",
      "text/plain": [
       "<Figure size 1152x1152 with 12 Axes>"
      ]
     },
     "metadata": {
      "needs_background": "light"
     },
     "output_type": "display_data"
    }
   ],
   "source": [
    "fig, axs = plt.subplots(nrows=4, ncols=3, figsize=(16,16))\n",
    "\n",
    "sns.distplot(car['Price'], color='blue', ax=axs[0, 0])\n",
    "sns.boxplot(car['Price'], color='blue', ax=axs[0, 1])\n",
    "sns.distplot(np.log(car['Price']), color='purple', ax=axs[0, 2])\n",
    "\n",
    "sns.distplot(car['Mileage'], color='green', ax=axs[1, 0])\n",
    "sns.boxplot(car['Mileage'], color='green', ax=axs[1, 1])\n",
    "sns.histplot(np.log(car['Mileage']), color='red', ax=axs[1, 2])\n",
    "\n",
    "sns.distplot(car['Levy'], color='grey', ax=axs[2, 0])\n",
    "sns.boxplot(car['Levy'], color='grey', ax=axs[2, 1])\n",
    "sns.histplot(np.log(car['Levy']), color='orange', ax=axs[2, 2])\n",
    "\n",
    "sns.distplot(car['Prod. year'], color='c', ax=axs[3, 0])\n",
    "sns.boxplot(car['Prod. year'], color='c', ax=axs[3, 1])\n",
    "sns.histplot(np.log(car['Prod. year']), color='purple', ax=axs[3, 2])\n",
    "\n",
    "axs[0, 2].set_xlabel('Log of Price', fontsize=12)\n",
    "axs[1, 2].set_xlabel('Log of Mileage', fontsize=12)\n",
    "axs[2, 2].set_xlabel('Log of Levy', fontsize=12)\n",
    "axs[3, 2].set_xlabel('Log of Prod. year', fontsize=12)\n",
    "\n",
    "plt.tight_layout()\n",
    "plt.show()"
   ]
  },
  {
   "cell_type": "code",
   "execution_count": 63,
   "id": "8db22d65",
   "metadata": {},
   "outputs": [
    {
     "data": {
      "image/png": "[encoded data removed]",
      "text/plain": [
       "<Figure size 1152x1440 with 8 Axes>"
      ]
     },
     "metadata": {
      "needs_background": "light"
     },
     "output_type": "display_data"
    }
   ],
   "source": [
    "fig, axs = plt.subplots(nrows=4, ncols=2, figsize=(16,20))\n",
    "\n",
    "sns.scatterplot(x=car['Mileage'], y=car['Price'], color='blue', ax=axs[0,0])\n",
    "axs[0,0].set_xlabel('Mileage')\n",
    "axs[0,0].set_ylabel('Price')\n",
    "sns.kdeplot(x=car['Mileage'], y=car['Price'], shade=True, cmap='Blues', ax=axs[0,1])\n",
    "axs[0,1].set_xlabel('Mileage')\n",
    "axs[0,1].set_ylabel('Price')\n",
    "\n",
    "sns.scatterplot(x=car['Levy'], y=car['Price'], color='red', ax=axs[1,0])\n",
    "axs[1,0].set_xlabel('Levy')\n",
    "axs[1,0].set_ylabel('Price')\n",
    "sns.kdeplot(x=car['Levy'], y=car['Price'], shade=True, cmap='Reds', ax=axs[1,1])\n",
    "axs[1,1].set_xlabel('Levy')\n",
    "axs[1,1].set_ylabel('Price')\n",
    "\n",
    "sns.scatterplot(x=car['Prod. year'], y=car['Price'], color='green', ax=axs[2,0])\n",
    "axs[2,0].set_xlabel('Year')\n",
    "axs[2,0].set_ylabel('Price')\n",
    "sns.kdeplot(x=car['Prod. year'], y=car['Price'], shade=True, cmap='Greens', ax=axs[2,1])\n",
    "axs[2,1].set_xlabel('Year')\n",
    "axs[2,1].set_ylabel('Price')\n",
    "\n",
    "sns.scatterplot(x=car['Engine volume'], y=car['Price'], color='orange', ax=axs[3,0])\n",
    "axs[3,0].set_xlabel('Engine volume')\n",
    "axs[3,0].set_ylabel('Price')\n",
    "sns.kdeplot(x=car['Engine volume'], y=car['Price'], shade=True, cmap='Oranges', ax=axs[3,1])\n",
    "axs[3,1].set_xlabel('Engine volume')\n",
    "axs[3,1].set_ylabel('Price')\n",
    "\n",
    "plt.show()\n"
   ]
  },
  {
   "cell_type": "code",
   "execution_count": 64,
   "id": "956db09b",
   "metadata": {},
   "outputs": [
    {
     "data": {
      "text/plain": [
       "Index(['ID', 'Price', 'Levy', 'Manufacturer', 'Model', 'Prod. year',\n",
       "       'Category', 'Leather interior', 'Fuel type', 'Engine volume', 'Mileage',\n",
       "       'Cylinders', 'Gear box type', 'Drive wheels', 'Doors', 'Wheel', 'Color',\n",
       "       'Airbags', 'Turbo'],\n",
       "      dtype='object')"
      ]
     },
     "execution_count": 64,
     "metadata": {},
     "output_type": "execute_result"
    }
   ],
   "source": [
    "car.columns"
   ]
  },
  {
   "cell_type": "code",
   "execution_count": 65,
   "id": "48dbec2b",
   "metadata": {},
   "outputs": [
    {
     "data": {
      "image/png": "[encoded data removed]",
      "text/plain": [
       "<Figure size 1728x1152 with 12 Axes>"
      ]
     },
     "metadata": {
      "needs_background": "light"
     },
     "output_type": "display_data"
    }
   ],
   "source": [
    "# Set up the subplot grid\n",
    "nrows = 4\n",
    "ncols = 3\n",
    "fig, axs = plt.subplots(nrows=nrows, ncols=ncols, figsize=(24, 16))\n",
    "\n",
    "# Flatten the axs array for easier indexing\n",
    "axs = axs.flatten()\n",
    "\n",
    "# Define the columns of interest and the corresponding colors\n",
    "cols = ['Manufacturer', 'Category', 'Leather interior', 'Fuel type', 'Cylinders', 'Gear box type', 'Drive wheels', \n",
    "        'Doors', 'Wheel', 'Color', 'Airbags', 'Turbo']\n",
    "colors = ['blue', 'green', 'red', 'purple', 'orange', 'brown', 'pink', 'gray', 'olive', 'cyan', 'magenta', 'lime']\n",
    "\n",
    "# Loop through the columns and create bar plots\n",
    "for i, col in enumerate(cols):\n",
    "    sns.barplot(x=col, y='Price', data=car, ax=axs[i], palette=[colors[i]])\n",
    "    axs[i].set_title(f'Price vs {col}')\n",
    "    axs[i].xaxis.set_tick_params(rotation=90)\n",
    "    axs[i].set_xlabel('')\n",
    "\n",
    "# Set the layout and display the plots\n",
    "fig.subplots_adjust(hspace=0.8)\n",
    "plt.show()\n"
   ]
  },
  {
   "cell_type": "code",
   "execution_count": 66,
   "id": "16929dca",
   "metadata": {},
   "outputs": [
    {
     "data": {
      "image/png": "[encoded data removed]",
      "text/plain": [
       "<Figure size 1152x576 with 1 Axes>"
      ]
     },
     "metadata": {
      "needs_background": "light"
     },
     "output_type": "display_data"
    }
   ],
   "source": [
    "plt.figure(figsize=(16,8))\n",
    "ax = sns.barplot(x=car['Manufacturer'], y=car['Price'], palette='inferno')\n",
    "ax.set_xticklabels(ax.get_xticklabels(), rotation=90)\n",
    "\n",
    "plt.show()"
   ]
  },
  {
   "cell_type": "code",
   "execution_count": null,
   "id": "e7c436b3",
   "metadata": {},
   "outputs": [],
   "source": []
  },
  {
   "cell_type": "code",
   "execution_count": 67,
   "id": "c603c98c",
   "metadata": {},
   "outputs": [
    {
     "data": {
      "image/png": "[encoded data removed]",
      "text/plain": [
       "<Figure size 864x432 with 2 Axes>"
      ]
     },
     "metadata": {
      "needs_background": "light"
     },
     "output_type": "display_data"
    }
   ],
   "source": [
    "# Generate a correlation matrix\n",
    "corr = car.corr()\n",
    "\n",
    "# Create a mask to hide the upper triangle\n",
    "mask = np.triu(np.ones_like(corr))\n",
    "\n",
    "# Create the heatmap\n",
    "plt.figure(figsize=(12,6))\n",
    "sns.heatmap(corr, annot=True, mask=mask)\n",
    "\n",
    "# Show the plot\n",
    "plt.show()"
   ]
  },
  {
   "cell_type": "code",
   "execution_count": 68,
   "id": "71e5dd5c",
   "metadata": {},
   "outputs": [
    {
     "data": {
      "text/html": [
       "<div>\n",
       "<style scoped>\n",
       "    .dataframe tbody tr th:only-of-type {\n",
       "        vertical-align: middle;\n",
       "    }\n",
       "\n",
       "    .dataframe tbody tr th {\n",
       "        vertical-align: top;\n",
       "    }\n",
       "\n",
       "    .dataframe thead th {\n",
       "        text-align: right;\n",
       "    }\n",
       "</style>\n",
       "<table border=\"1\" class=\"dataframe\">\n",
       "  <thead>\n",
       "    <tr style=\"text-align: right;\">\n",
       "      <th></th>\n",
       "      <th>ID</th>\n",
       "      <th>Price</th>\n",
       "      <th>Levy</th>\n",
       "      <th>Manufacturer</th>\n",
       "      <th>Model</th>\n",
       "      <th>Prod. year</th>\n",
       "      <th>Category</th>\n",
       "      <th>Leather interior</th>\n",
       "      <th>Fuel type</th>\n",
       "      <th>Engine volume</th>\n",
       "      <th>Mileage</th>\n",
       "      <th>Cylinders</th>\n",
       "      <th>Gear box type</th>\n",
       "      <th>Drive wheels</th>\n",
       "      <th>Doors</th>\n",
       "      <th>Wheel</th>\n",
       "      <th>Color</th>\n",
       "      <th>Airbags</th>\n",
       "      <th>Turbo</th>\n",
       "    </tr>\n",
       "  </thead>\n",
       "  <tbody>\n",
       "    <tr>\n",
       "      <th>0</th>\n",
       "      <td>45654403</td>\n",
       "      <td>13328</td>\n",
       "      <td>1399</td>\n",
       "      <td>LEXUS</td>\n",
       "      <td>RX 450</td>\n",
       "      <td>2010</td>\n",
       "      <td>Jeep</td>\n",
       "      <td>Yes</td>\n",
       "      <td>Hybrid</td>\n",
       "      <td>3.5</td>\n",
       "      <td>186005</td>\n",
       "      <td>6.0</td>\n",
       "      <td>Automatic</td>\n",
       "      <td>Others</td>\n",
       "      <td>4</td>\n",
       "      <td>Left wheel</td>\n",
       "      <td>Silver</td>\n",
       "      <td>12</td>\n",
       "      <td>0</td>\n",
       "    </tr>\n",
       "    <tr>\n",
       "      <th>1</th>\n",
       "      <td>44731507</td>\n",
       "      <td>16621</td>\n",
       "      <td>1018</td>\n",
       "      <td>CHEVROLET</td>\n",
       "      <td>Equinox</td>\n",
       "      <td>2011</td>\n",
       "      <td>Jeep</td>\n",
       "      <td>No</td>\n",
       "      <td>Petrol</td>\n",
       "      <td>3.0</td>\n",
       "      <td>192000</td>\n",
       "      <td>6.0</td>\n",
       "      <td>Tiptronic</td>\n",
       "      <td>Others</td>\n",
       "      <td>4</td>\n",
       "      <td>Left wheel</td>\n",
       "      <td>Black</td>\n",
       "      <td>8</td>\n",
       "      <td>0</td>\n",
       "    </tr>\n",
       "    <tr>\n",
       "      <th>2</th>\n",
       "      <td>45774419</td>\n",
       "      <td>8467</td>\n",
       "      <td>0</td>\n",
       "      <td>HONDA</td>\n",
       "      <td>FIT</td>\n",
       "      <td>2006</td>\n",
       "      <td>Hatchback</td>\n",
       "      <td>No</td>\n",
       "      <td>Petrol</td>\n",
       "      <td>1.3</td>\n",
       "      <td>200000</td>\n",
       "      <td>4.0</td>\n",
       "      <td>Variator</td>\n",
       "      <td>Front</td>\n",
       "      <td>4</td>\n",
       "      <td>Right-hand drive</td>\n",
       "      <td>Black</td>\n",
       "      <td>2</td>\n",
       "      <td>0</td>\n",
       "    </tr>\n",
       "    <tr>\n",
       "      <th>3</th>\n",
       "      <td>45769185</td>\n",
       "      <td>3607</td>\n",
       "      <td>862</td>\n",
       "      <td>FORD</td>\n",
       "      <td>Escape</td>\n",
       "      <td>2011</td>\n",
       "      <td>Jeep</td>\n",
       "      <td>Yes</td>\n",
       "      <td>Hybrid</td>\n",
       "      <td>2.5</td>\n",
       "      <td>168966</td>\n",
       "      <td>4.0</td>\n",
       "      <td>Automatic</td>\n",
       "      <td>Others</td>\n",
       "      <td>4</td>\n",
       "      <td>Left wheel</td>\n",
       "      <td>White</td>\n",
       "      <td>0</td>\n",
       "      <td>0</td>\n",
       "    </tr>\n",
       "    <tr>\n",
       "      <th>4</th>\n",
       "      <td>45809263</td>\n",
       "      <td>11726</td>\n",
       "      <td>446</td>\n",
       "      <td>HONDA</td>\n",
       "      <td>FIT</td>\n",
       "      <td>2014</td>\n",
       "      <td>Hatchback</td>\n",
       "      <td>Yes</td>\n",
       "      <td>Petrol</td>\n",
       "      <td>1.3</td>\n",
       "      <td>91901</td>\n",
       "      <td>4.0</td>\n",
       "      <td>Automatic</td>\n",
       "      <td>Front</td>\n",
       "      <td>4</td>\n",
       "      <td>Left wheel</td>\n",
       "      <td>Silver</td>\n",
       "      <td>4</td>\n",
       "      <td>0</td>\n",
       "    </tr>\n",
       "    <tr>\n",
       "      <th>...</th>\n",
       "      <td>...</td>\n",
       "      <td>...</td>\n",
       "      <td>...</td>\n",
       "      <td>...</td>\n",
       "      <td>...</td>\n",
       "      <td>...</td>\n",
       "      <td>...</td>\n",
       "      <td>...</td>\n",
       "      <td>...</td>\n",
       "      <td>...</td>\n",
       "      <td>...</td>\n",
       "      <td>...</td>\n",
       "      <td>...</td>\n",
       "      <td>...</td>\n",
       "      <td>...</td>\n",
       "      <td>...</td>\n",
       "      <td>...</td>\n",
       "      <td>...</td>\n",
       "      <td>...</td>\n",
       "    </tr>\n",
       "    <tr>\n",
       "      <th>19231</th>\n",
       "      <td>45772306</td>\n",
       "      <td>5802</td>\n",
       "      <td>1055</td>\n",
       "      <td>MERCEDES-BENZ</td>\n",
       "      <td>E 350</td>\n",
       "      <td>2013</td>\n",
       "      <td>Sedan</td>\n",
       "      <td>Yes</td>\n",
       "      <td>Diesel</td>\n",
       "      <td>3.5</td>\n",
       "      <td>107800</td>\n",
       "      <td>6.0</td>\n",
       "      <td>Automatic</td>\n",
       "      <td>Rear</td>\n",
       "      <td>4</td>\n",
       "      <td>Left wheel</td>\n",
       "      <td>Grey</td>\n",
       "      <td>12</td>\n",
       "      <td>0</td>\n",
       "    </tr>\n",
       "    <tr>\n",
       "      <th>19232</th>\n",
       "      <td>45798355</td>\n",
       "      <td>8467</td>\n",
       "      <td>0</td>\n",
       "      <td>MERCEDES-BENZ</td>\n",
       "      <td>CLK 200</td>\n",
       "      <td>1999</td>\n",
       "      <td>Coupe</td>\n",
       "      <td>Yes</td>\n",
       "      <td>CNG</td>\n",
       "      <td>2.0</td>\n",
       "      <td>300000</td>\n",
       "      <td>4.0</td>\n",
       "      <td>Manual</td>\n",
       "      <td>Rear</td>\n",
       "      <td>2</td>\n",
       "      <td>Left wheel</td>\n",
       "      <td>Silver</td>\n",
       "      <td>5</td>\n",
       "      <td>1</td>\n",
       "    </tr>\n",
       "    <tr>\n",
       "      <th>19233</th>\n",
       "      <td>45778856</td>\n",
       "      <td>15681</td>\n",
       "      <td>831</td>\n",
       "      <td>HYUNDAI</td>\n",
       "      <td>Sonata</td>\n",
       "      <td>2011</td>\n",
       "      <td>Sedan</td>\n",
       "      <td>Yes</td>\n",
       "      <td>Petrol</td>\n",
       "      <td>2.4</td>\n",
       "      <td>161600</td>\n",
       "      <td>4.0</td>\n",
       "      <td>Tiptronic</td>\n",
       "      <td>Front</td>\n",
       "      <td>4</td>\n",
       "      <td>Left wheel</td>\n",
       "      <td>Red</td>\n",
       "      <td>8</td>\n",
       "      <td>0</td>\n",
       "    </tr>\n",
       "    <tr>\n",
       "      <th>19234</th>\n",
       "      <td>45804997</td>\n",
       "      <td>26108</td>\n",
       "      <td>836</td>\n",
       "      <td>HYUNDAI</td>\n",
       "      <td>Tucson</td>\n",
       "      <td>2010</td>\n",
       "      <td>Jeep</td>\n",
       "      <td>Yes</td>\n",
       "      <td>Diesel</td>\n",
       "      <td>2.0</td>\n",
       "      <td>116365</td>\n",
       "      <td>4.0</td>\n",
       "      <td>Automatic</td>\n",
       "      <td>Front</td>\n",
       "      <td>4</td>\n",
       "      <td>Left wheel</td>\n",
       "      <td>Grey</td>\n",
       "      <td>4</td>\n",
       "      <td>0</td>\n",
       "    </tr>\n",
       "    <tr>\n",
       "      <th>19235</th>\n",
       "      <td>45793526</td>\n",
       "      <td>5331</td>\n",
       "      <td>1288</td>\n",
       "      <td>CHEVROLET</td>\n",
       "      <td>Captiva</td>\n",
       "      <td>2007</td>\n",
       "      <td>Jeep</td>\n",
       "      <td>Yes</td>\n",
       "      <td>Diesel</td>\n",
       "      <td>2.0</td>\n",
       "      <td>51258</td>\n",
       "      <td>4.0</td>\n",
       "      <td>Automatic</td>\n",
       "      <td>Front</td>\n",
       "      <td>4</td>\n",
       "      <td>Left wheel</td>\n",
       "      <td>Black</td>\n",
       "      <td>4</td>\n",
       "      <td>0</td>\n",
       "    </tr>\n",
       "  </tbody>\n",
       "</table>\n",
       "<p>17397 rows × 19 columns</p>\n",
       "</div>"
      ],
      "text/plain": [
       "             ID  Price  Levy   Manufacturer    Model  Prod. year   Category  \\\n",
       "0      45654403  13328  1399          LEXUS   RX 450        2010       Jeep   \n",
       "1      44731507  16621  1018      CHEVROLET  Equinox        2011       Jeep   \n",
       "2      45774419   8467     0          HONDA      FIT        2006  Hatchback   \n",
       "3      45769185   3607   862           FORD   Escape        2011       Jeep   \n",
       "4      45809263  11726   446          HONDA      FIT        2014  Hatchback   \n",
       "...         ...    ...   ...            ...      ...         ...        ...   \n",
       "19231  45772306   5802  1055  MERCEDES-BENZ    E 350        2013      Sedan   \n",
       "19232  45798355   8467     0  MERCEDES-BENZ  CLK 200        1999      Coupe   \n",
       "19233  45778856  15681   831        HYUNDAI   Sonata        2011      Sedan   \n",
       "19234  45804997  26108   836        HYUNDAI   Tucson        2010       Jeep   \n",
       "19235  45793526   5331  1288      CHEVROLET  Captiva        2007       Jeep   \n",
       "\n",
       "      Leather interior Fuel type  Engine volume  Mileage  Cylinders  \\\n",
       "0                  Yes    Hybrid            3.5   186005        6.0   \n",
       "1                   No    Petrol            3.0   192000        6.0   \n",
       "2                   No    Petrol            1.3   200000        4.0   \n",
       "3                  Yes    Hybrid            2.5   168966        4.0   \n",
       "4                  Yes    Petrol            1.3    91901        4.0   \n",
       "...                ...       ...            ...      ...        ...   \n",
       "19231              Yes    Diesel            3.5   107800        6.0   \n",
       "19232              Yes       CNG            2.0   300000        4.0   \n",
       "19233              Yes    Petrol            2.4   161600        4.0   \n",
       "19234              Yes    Diesel            2.0   116365        4.0   \n",
       "19235              Yes    Diesel            2.0    51258        4.0   \n",
       "\n",
       "      Gear box type Drive wheels  Doors             Wheel   Color  Airbags  \\\n",
       "0         Automatic       Others      4        Left wheel  Silver       12   \n",
       "1         Tiptronic       Others      4        Left wheel   Black        8   \n",
       "2          Variator        Front      4  Right-hand drive   Black        2   \n",
       "3         Automatic       Others      4        Left wheel   White        0   \n",
       "4         Automatic        Front      4        Left wheel  Silver        4   \n",
       "...             ...          ...    ...               ...     ...      ...   \n",
       "19231     Automatic         Rear      4        Left wheel    Grey       12   \n",
       "19232        Manual         Rear      2        Left wheel  Silver        5   \n",
       "19233     Tiptronic        Front      4        Left wheel     Red        8   \n",
       "19234     Automatic        Front      4        Left wheel    Grey        4   \n",
       "19235     Automatic        Front      4        Left wheel   Black        4   \n",
       "\n",
       "       Turbo  \n",
       "0          0  \n",
       "1          0  \n",
       "2          0  \n",
       "3          0  \n",
       "4          0  \n",
       "...      ...  \n",
       "19231      0  \n",
       "19232      1  \n",
       "19233      0  \n",
       "19234      0  \n",
       "19235      0  \n",
       "\n",
       "[17397 rows x 19 columns]"
      ]
     },
     "execution_count": 68,
     "metadata": {},
     "output_type": "execute_result"
    }
   ],
   "source": [
    "car"
   ]
  },
  {
   "cell_type": "code",
   "execution_count": 69,
   "id": "d7072540",
   "metadata": {
    "scrolled": false
   },
   "outputs": [
    {
     "name": "stdout",
     "output_type": "stream",
     "text": [
      "<class 'pandas.core.frame.DataFrame'>\n",
      "Int64Index: 17397 entries, 0 to 19235\n",
      "Data columns (total 19 columns):\n",
      " #   Column            Non-Null Count  Dtype  \n",
      "---  ------            --------------  -----  \n",
      " 0   ID                17397 non-null  int64  \n",
      " 1   Price             17397 non-null  int64  \n",
      " 2   Levy              17397 non-null  int32  \n",
      " 3   Manufacturer      17397 non-null  object \n",
      " 4   Model             17397 non-null  object \n",
      " 5   Prod. year        17397 non-null  int64  \n",
      " 6   Category          17397 non-null  object \n",
      " 7   Leather interior  17397 non-null  object \n",
      " 8   Fuel type         17397 non-null  object \n",
      " 9   Engine volume     17397 non-null  float64\n",
      " 10  Mileage           17397 non-null  int32  \n",
      " 11  Cylinders         17397 non-null  float64\n",
      " 12  Gear box type     17397 non-null  object \n",
      " 13  Drive wheels      17397 non-null  object \n",
      " 14  Doors             17397 non-null  int32  \n",
      " 15  Wheel             17397 non-null  object \n",
      " 16  Color             17397 non-null  object \n",
      " 17  Airbags           17397 non-null  int64  \n",
      " 18  Turbo             17397 non-null  int32  \n",
      "dtypes: float64(2), int32(4), int64(4), object(9)\n",
      "memory usage: 2.9+ MB\n"
     ]
    }
   ],
   "source": [
    "car.info()"
   ]
  },
  {
   "cell_type": "markdown",
   "id": "182f2278",
   "metadata": {},
   "source": [
    "- Should drop 5 values from Doors column\n",
    "- Can do log Transformation of Price, Mileage and Levy "
   ]
  },
  {
   "cell_type": "markdown",
   "id": "7a5ed407",
   "metadata": {},
   "source": [
    "# More preprocessing"
   ]
  },
  {
   "cell_type": "code",
   "execution_count": 71,
   "id": "ce65d6b4",
   "metadata": {},
   "outputs": [
    {
     "data": {
      "text/plain": [
       "array(['Silver', 'Black', 'Black', ..., 'Red', 'Grey', 'Black'],\n",
       "      dtype=object)"
      ]
     },
     "execution_count": 71,
     "metadata": {},
     "output_type": "execute_result"
    }
   ],
   "source": [
    "car['Color'].values"
   ]
  },
  {
   "cell_type": "code",
   "execution_count": 72,
   "id": "4ee63034",
   "metadata": {},
   "outputs": [],
   "source": [
    "\n",
    "car['Color'] = np.where(car['Color'].isin(['Silver', 'Black','White','Grey','Blue','Red','Orange','Green']), car['Color'], 'Others')\n"
   ]
  },
  {
   "cell_type": "code",
   "execution_count": 76,
   "id": "ec94dcb0",
   "metadata": {},
   "outputs": [
    {
     "data": {
      "text/plain": [
       "['CHRYSLER',\n",
       " 'SKODA',\n",
       " 'PEUGEOT',\n",
       " 'VOLVO',\n",
       " 'BUICK',\n",
       " 'GMC',\n",
       " 'DAIHATSU',\n",
       " 'CADILLAC',\n",
       " 'UAZ',\n",
       " 'GAZ',\n",
       " 'LINCOLN',\n",
       " 'ACURA']"
      ]
     },
     "execution_count": 76,
     "metadata": {},
     "output_type": "execute_result"
    }
   ],
   "source": [
    "# Count the frequency of each manufacturer in the data\n",
    "manufacturer_counts = car['Manufacturer'].value_counts()\n",
    "\n",
    "# Find the names of manufacturers with less than 25 values\n",
    "manufacturers_less_than_25 = manufacturer_counts[manufacturer_counts < 25].index.tolist()\n",
    "\n",
    "# Print the names of the manufacturers with less than 25 values\n",
    "manufacturers_less_than_25"
   ]
  },
  {
   "cell_type": "code",
   "execution_count": 77,
   "id": "c319adf2",
   "metadata": {},
   "outputs": [],
   "source": [
    "car['Manufacturer'] = car['Manufacturer'].replace(manufacturers_less_than_25, 'Others')"
   ]
  },
  {
   "cell_type": "code",
   "execution_count": 78,
   "id": "a31c09fd",
   "metadata": {},
   "outputs": [
    {
     "data": {
      "text/html": [
       "<div>\n",
       "<style scoped>\n",
       "    .dataframe tbody tr th:only-of-type {\n",
       "        vertical-align: middle;\n",
       "    }\n",
       "\n",
       "    .dataframe tbody tr th {\n",
       "        vertical-align: top;\n",
       "    }\n",
       "\n",
       "    .dataframe thead th {\n",
       "        text-align: right;\n",
       "    }\n",
       "</style>\n",
       "<table border=\"1\" class=\"dataframe\">\n",
       "  <thead>\n",
       "    <tr style=\"text-align: right;\">\n",
       "      <th></th>\n",
       "      <th>ID</th>\n",
       "      <th>Price</th>\n",
       "      <th>Levy</th>\n",
       "      <th>Manufacturer</th>\n",
       "      <th>Model</th>\n",
       "      <th>Prod. year</th>\n",
       "      <th>Category</th>\n",
       "      <th>Leather interior</th>\n",
       "      <th>Fuel type</th>\n",
       "      <th>Engine volume</th>\n",
       "      <th>Mileage</th>\n",
       "      <th>Cylinders</th>\n",
       "      <th>Gear box type</th>\n",
       "      <th>Drive wheels</th>\n",
       "      <th>Doors</th>\n",
       "      <th>Wheel</th>\n",
       "      <th>Color</th>\n",
       "      <th>Airbags</th>\n",
       "      <th>Turbo</th>\n",
       "    </tr>\n",
       "  </thead>\n",
       "  <tbody>\n",
       "    <tr>\n",
       "      <th>4015</th>\n",
       "      <td>45787282</td>\n",
       "      <td>36065</td>\n",
       "      <td>0</td>\n",
       "      <td>BMW</td>\n",
       "      <td>550</td>\n",
       "      <td>2012</td>\n",
       "      <td>Sedan</td>\n",
       "      <td>Yes</td>\n",
       "      <td>Petrol</td>\n",
       "      <td>4.4</td>\n",
       "      <td>145000</td>\n",
       "      <td>8.0</td>\n",
       "      <td>Tiptronic</td>\n",
       "      <td>Rear</td>\n",
       "      <td>4</td>\n",
       "      <td>Left wheel</td>\n",
       "      <td>White</td>\n",
       "      <td>12</td>\n",
       "      <td>1</td>\n",
       "    </tr>\n",
       "    <tr>\n",
       "      <th>15383</th>\n",
       "      <td>45732722</td>\n",
       "      <td>10036</td>\n",
       "      <td>639</td>\n",
       "      <td>HYUNDAI</td>\n",
       "      <td>Sonata</td>\n",
       "      <td>2014</td>\n",
       "      <td>Sedan</td>\n",
       "      <td>Yes</td>\n",
       "      <td>LPG</td>\n",
       "      <td>2.0</td>\n",
       "      <td>720227</td>\n",
       "      <td>4.0</td>\n",
       "      <td>Automatic</td>\n",
       "      <td>Front</td>\n",
       "      <td>4</td>\n",
       "      <td>Left wheel</td>\n",
       "      <td>Silver</td>\n",
       "      <td>4</td>\n",
       "      <td>0</td>\n",
       "    </tr>\n",
       "    <tr>\n",
       "      <th>18780</th>\n",
       "      <td>45802056</td>\n",
       "      <td>35269</td>\n",
       "      <td>934</td>\n",
       "      <td>HYUNDAI</td>\n",
       "      <td>H1</td>\n",
       "      <td>2015</td>\n",
       "      <td>Universal</td>\n",
       "      <td>Yes</td>\n",
       "      <td>Diesel</td>\n",
       "      <td>2.5</td>\n",
       "      <td>127027</td>\n",
       "      <td>4.0</td>\n",
       "      <td>Automatic</td>\n",
       "      <td>Front</td>\n",
       "      <td>4</td>\n",
       "      <td>Left wheel</td>\n",
       "      <td>White</td>\n",
       "      <td>4</td>\n",
       "      <td>0</td>\n",
       "    </tr>\n",
       "    <tr>\n",
       "      <th>1500</th>\n",
       "      <td>45787225</td>\n",
       "      <td>11604</td>\n",
       "      <td>0</td>\n",
       "      <td>FORD</td>\n",
       "      <td>Focus</td>\n",
       "      <td>2013</td>\n",
       "      <td>Sedan</td>\n",
       "      <td>Yes</td>\n",
       "      <td>Petrol</td>\n",
       "      <td>2.0</td>\n",
       "      <td>1000</td>\n",
       "      <td>4.0</td>\n",
       "      <td>Tiptronic</td>\n",
       "      <td>Front</td>\n",
       "      <td>4</td>\n",
       "      <td>Left wheel</td>\n",
       "      <td>White</td>\n",
       "      <td>6</td>\n",
       "      <td>0</td>\n",
       "    </tr>\n",
       "    <tr>\n",
       "      <th>10781</th>\n",
       "      <td>45211794</td>\n",
       "      <td>15994</td>\n",
       "      <td>1051</td>\n",
       "      <td>HYUNDAI</td>\n",
       "      <td>Sonata</td>\n",
       "      <td>2016</td>\n",
       "      <td>Sedan</td>\n",
       "      <td>No</td>\n",
       "      <td>Petrol</td>\n",
       "      <td>2.4</td>\n",
       "      <td>93000</td>\n",
       "      <td>4.0</td>\n",
       "      <td>Automatic</td>\n",
       "      <td>Front</td>\n",
       "      <td>4</td>\n",
       "      <td>Left wheel</td>\n",
       "      <td>White</td>\n",
       "      <td>12</td>\n",
       "      <td>0</td>\n",
       "    </tr>\n",
       "    <tr>\n",
       "      <th>11249</th>\n",
       "      <td>45804167</td>\n",
       "      <td>45542</td>\n",
       "      <td>891</td>\n",
       "      <td>HYUNDAI</td>\n",
       "      <td>Tucson</td>\n",
       "      <td>2016</td>\n",
       "      <td>Jeep</td>\n",
       "      <td>Yes</td>\n",
       "      <td>Diesel</td>\n",
       "      <td>2.0</td>\n",
       "      <td>88585</td>\n",
       "      <td>4.0</td>\n",
       "      <td>Automatic</td>\n",
       "      <td>Front</td>\n",
       "      <td>4</td>\n",
       "      <td>Left wheel</td>\n",
       "      <td>Black</td>\n",
       "      <td>4</td>\n",
       "      <td>0</td>\n",
       "    </tr>\n",
       "  </tbody>\n",
       "</table>\n",
       "</div>"
      ],
      "text/plain": [
       "             ID  Price  Levy Manufacturer   Model  Prod. year   Category  \\\n",
       "4015   45787282  36065     0          BMW     550        2012      Sedan   \n",
       "15383  45732722  10036   639      HYUNDAI  Sonata        2014      Sedan   \n",
       "18780  45802056  35269   934      HYUNDAI      H1        2015  Universal   \n",
       "1500   45787225  11604     0         FORD   Focus        2013      Sedan   \n",
       "10781  45211794  15994  1051      HYUNDAI  Sonata        2016      Sedan   \n",
       "11249  45804167  45542   891      HYUNDAI  Tucson        2016       Jeep   \n",
       "\n",
       "      Leather interior Fuel type  Engine volume  Mileage  Cylinders  \\\n",
       "4015               Yes    Petrol            4.4   145000        8.0   \n",
       "15383              Yes       LPG            2.0   720227        4.0   \n",
       "18780              Yes    Diesel            2.5   127027        4.0   \n",
       "1500               Yes    Petrol            2.0     1000        4.0   \n",
       "10781               No    Petrol            2.4    93000        4.0   \n",
       "11249              Yes    Diesel            2.0    88585        4.0   \n",
       "\n",
       "      Gear box type Drive wheels  Doors       Wheel   Color  Airbags  Turbo  \n",
       "4015      Tiptronic         Rear      4  Left wheel   White       12      1  \n",
       "15383     Automatic        Front      4  Left wheel  Silver        4      0  \n",
       "18780     Automatic        Front      4  Left wheel   White        4      0  \n",
       "1500      Tiptronic        Front      4  Left wheel   White        6      0  \n",
       "10781     Automatic        Front      4  Left wheel   White       12      0  \n",
       "11249     Automatic        Front      4  Left wheel   Black        4      0  "
      ]
     },
     "execution_count": 78,
     "metadata": {},
     "output_type": "execute_result"
    }
   ],
   "source": [
    "car.sample(6)"
   ]
  },
  {
   "cell_type": "code",
   "execution_count": null,
   "id": "ed840637",
   "metadata": {},
   "outputs": [],
   "source": []
  },
  {
   "cell_type": "markdown",
   "id": "fc493f9b",
   "metadata": {},
   "source": [
    "# Model Building"
   ]
  },
  {
   "cell_type": "code",
   "execution_count": 79,
   "id": "5e4572f8",
   "metadata": {},
   "outputs": [],
   "source": [
    "X= car.drop(columns=['Price','ID','Model'])\n",
    "y= np.log(car['Price'])"
   ]
  },
  {
   "cell_type": "code",
   "execution_count": 80,
   "id": "5961dba4",
   "metadata": {},
   "outputs": [],
   "source": [
    "from sklearn.model_selection import train_test_split\n",
    "X_train, X_test, y_train, y_test = train_test_split( X, y, test_size=0.2, random_state=101)"
   ]
  },
  {
   "cell_type": "code",
   "execution_count": 81,
   "id": "ed76ef90",
   "metadata": {},
   "outputs": [],
   "source": [
    "from sklearn.compose import ColumnTransformer\n",
    "from sklearn.pipeline import Pipeline\n",
    "from sklearn.preprocessing import OneHotEncoder,FunctionTransformer\n",
    "from sklearn.metrics import r2_score,mean_absolute_error\n",
    "\n",
    "from sklearn.linear_model import LinearRegression,Ridge,Lasso\n",
    "from sklearn.neighbors import KNeighborsRegressor\n",
    "from sklearn.tree import DecisionTreeRegressor\n",
    "from sklearn.ensemble import RandomForestRegressor,GradientBoostingRegressor,AdaBoostRegressor,ExtraTreesRegressor\n",
    "from sklearn.svm import SVR\n",
    "from xgboost import XGBRegressor"
   ]
  },
  {
   "cell_type": "code",
   "execution_count": null,
   "id": "b4e45939",
   "metadata": {},
   "outputs": [],
   "source": []
  },
  {
   "cell_type": "code",
   "execution_count": 82,
   "id": "d568313c",
   "metadata": {},
   "outputs": [
    {
     "name": "stdout",
     "output_type": "stream",
     "text": [
      "<class 'pandas.core.frame.DataFrame'>\n",
      "Int64Index: 13917 entries, 12788 to 14545\n",
      "Data columns (total 16 columns):\n",
      " #   Column            Non-Null Count  Dtype  \n",
      "---  ------            --------------  -----  \n",
      " 0   Levy              13917 non-null  int32  \n",
      " 1   Manufacturer      13917 non-null  object \n",
      " 2   Prod. year        13917 non-null  int64  \n",
      " 3   Category          13917 non-null  object \n",
      " 4   Leather interior  13917 non-null  object \n",
      " 5   Fuel type         13917 non-null  object \n",
      " 6   Engine volume     13917 non-null  float64\n",
      " 7   Mileage           13917 non-null  int32  \n",
      " 8   Cylinders         13917 non-null  float64\n",
      " 9   Gear box type     13917 non-null  object \n",
      " 10  Drive wheels      13917 non-null  object \n",
      " 11  Doors             13917 non-null  int32  \n",
      " 12  Wheel             13917 non-null  object \n",
      " 13  Color             13917 non-null  object \n",
      " 14  Airbags           13917 non-null  int64  \n",
      " 15  Turbo             13917 non-null  int32  \n",
      "dtypes: float64(2), int32(4), int64(2), object(8)\n",
      "memory usage: 1.6+ MB\n"
     ]
    }
   ],
   "source": [
    "X_train.info()"
   ]
  },
  {
   "cell_type": "code",
   "execution_count": 83,
   "id": "581b7b61",
   "metadata": {},
   "outputs": [
    {
     "data": {
      "text/html": [
       "<div>\n",
       "<style scoped>\n",
       "    .dataframe tbody tr th:only-of-type {\n",
       "        vertical-align: middle;\n",
       "    }\n",
       "\n",
       "    .dataframe tbody tr th {\n",
       "        vertical-align: top;\n",
       "    }\n",
       "\n",
       "    .dataframe thead th {\n",
       "        text-align: right;\n",
       "    }\n",
       "</style>\n",
       "<table border=\"1\" class=\"dataframe\">\n",
       "  <thead>\n",
       "    <tr style=\"text-align: right;\">\n",
       "      <th></th>\n",
       "      <th>Levy</th>\n",
       "      <th>Manufacturer</th>\n",
       "      <th>Prod. year</th>\n",
       "      <th>Category</th>\n",
       "      <th>Leather interior</th>\n",
       "      <th>Fuel type</th>\n",
       "      <th>Engine volume</th>\n",
       "      <th>Mileage</th>\n",
       "      <th>Cylinders</th>\n",
       "      <th>Gear box type</th>\n",
       "      <th>Drive wheels</th>\n",
       "      <th>Doors</th>\n",
       "      <th>Wheel</th>\n",
       "      <th>Color</th>\n",
       "      <th>Airbags</th>\n",
       "      <th>Turbo</th>\n",
       "    </tr>\n",
       "  </thead>\n",
       "  <tbody>\n",
       "    <tr>\n",
       "      <th>12788</th>\n",
       "      <td>878</td>\n",
       "      <td>CHEVROLET</td>\n",
       "      <td>2009</td>\n",
       "      <td>Sedan</td>\n",
       "      <td>No</td>\n",
       "      <td>Petrol</td>\n",
       "      <td>1.8</td>\n",
       "      <td>53000</td>\n",
       "      <td>4.0</td>\n",
       "      <td>Tiptronic</td>\n",
       "      <td>Front</td>\n",
       "      <td>4</td>\n",
       "      <td>Left wheel</td>\n",
       "      <td>Grey</td>\n",
       "      <td>12</td>\n",
       "      <td>0</td>\n",
       "    </tr>\n",
       "    <tr>\n",
       "      <th>10226</th>\n",
       "      <td>1399</td>\n",
       "      <td>MERCEDES-BENZ</td>\n",
       "      <td>2010</td>\n",
       "      <td>Sedan</td>\n",
       "      <td>Yes</td>\n",
       "      <td>Diesel</td>\n",
       "      <td>3.5</td>\n",
       "      <td>239224</td>\n",
       "      <td>6.0</td>\n",
       "      <td>Automatic</td>\n",
       "      <td>Others</td>\n",
       "      <td>4</td>\n",
       "      <td>Left wheel</td>\n",
       "      <td>Black</td>\n",
       "      <td>12</td>\n",
       "      <td>0</td>\n",
       "    </tr>\n",
       "    <tr>\n",
       "      <th>7332</th>\n",
       "      <td>765</td>\n",
       "      <td>FORD</td>\n",
       "      <td>2015</td>\n",
       "      <td>Hatchback</td>\n",
       "      <td>No</td>\n",
       "      <td>Petrol</td>\n",
       "      <td>2.0</td>\n",
       "      <td>217600</td>\n",
       "      <td>4.0</td>\n",
       "      <td>Automatic</td>\n",
       "      <td>Front</td>\n",
       "      <td>4</td>\n",
       "      <td>Left wheel</td>\n",
       "      <td>White</td>\n",
       "      <td>8</td>\n",
       "      <td>0</td>\n",
       "    </tr>\n",
       "    <tr>\n",
       "      <th>4200</th>\n",
       "      <td>915</td>\n",
       "      <td>AUDI</td>\n",
       "      <td>2014</td>\n",
       "      <td>Hatchback</td>\n",
       "      <td>Yes</td>\n",
       "      <td>Petrol</td>\n",
       "      <td>3.0</td>\n",
       "      <td>401128</td>\n",
       "      <td>6.0</td>\n",
       "      <td>Automatic</td>\n",
       "      <td>Others</td>\n",
       "      <td>4</td>\n",
       "      <td>Left wheel</td>\n",
       "      <td>Grey</td>\n",
       "      <td>0</td>\n",
       "      <td>0</td>\n",
       "    </tr>\n",
       "    <tr>\n",
       "      <th>10706</th>\n",
       "      <td>418</td>\n",
       "      <td>CHEVROLET</td>\n",
       "      <td>2014</td>\n",
       "      <td>Hatchback</td>\n",
       "      <td>Yes</td>\n",
       "      <td>Petrol</td>\n",
       "      <td>1.2</td>\n",
       "      <td>131312</td>\n",
       "      <td>4.0</td>\n",
       "      <td>Automatic</td>\n",
       "      <td>Front</td>\n",
       "      <td>4</td>\n",
       "      <td>Left wheel</td>\n",
       "      <td>Blue</td>\n",
       "      <td>12</td>\n",
       "      <td>0</td>\n",
       "    </tr>\n",
       "    <tr>\n",
       "      <th>...</th>\n",
       "      <td>...</td>\n",
       "      <td>...</td>\n",
       "      <td>...</td>\n",
       "      <td>...</td>\n",
       "      <td>...</td>\n",
       "      <td>...</td>\n",
       "      <td>...</td>\n",
       "      <td>...</td>\n",
       "      <td>...</td>\n",
       "      <td>...</td>\n",
       "      <td>...</td>\n",
       "      <td>...</td>\n",
       "      <td>...</td>\n",
       "      <td>...</td>\n",
       "      <td>...</td>\n",
       "      <td>...</td>\n",
       "    </tr>\n",
       "    <tr>\n",
       "      <th>13685</th>\n",
       "      <td>1292</td>\n",
       "      <td>HYUNDAI</td>\n",
       "      <td>2016</td>\n",
       "      <td>Sedan</td>\n",
       "      <td>Yes</td>\n",
       "      <td>LPG</td>\n",
       "      <td>3.0</td>\n",
       "      <td>200000</td>\n",
       "      <td>4.0</td>\n",
       "      <td>Automatic</td>\n",
       "      <td>Front</td>\n",
       "      <td>4</td>\n",
       "      <td>Left wheel</td>\n",
       "      <td>Silver</td>\n",
       "      <td>4</td>\n",
       "      <td>0</td>\n",
       "    </tr>\n",
       "    <tr>\n",
       "      <th>18791</th>\n",
       "      <td>0</td>\n",
       "      <td>JEEP</td>\n",
       "      <td>2001</td>\n",
       "      <td>Jeep</td>\n",
       "      <td>Yes</td>\n",
       "      <td>Petrol</td>\n",
       "      <td>4.7</td>\n",
       "      <td>228000</td>\n",
       "      <td>8.0</td>\n",
       "      <td>Automatic</td>\n",
       "      <td>Others</td>\n",
       "      <td>4</td>\n",
       "      <td>Left wheel</td>\n",
       "      <td>Blue</td>\n",
       "      <td>10</td>\n",
       "      <td>0</td>\n",
       "    </tr>\n",
       "    <tr>\n",
       "      <th>6296</th>\n",
       "      <td>1185</td>\n",
       "      <td>LEXUS</td>\n",
       "      <td>2009</td>\n",
       "      <td>Sedan</td>\n",
       "      <td>Yes</td>\n",
       "      <td>Petrol</td>\n",
       "      <td>2.5</td>\n",
       "      <td>126715</td>\n",
       "      <td>4.0</td>\n",
       "      <td>Automatic</td>\n",
       "      <td>Front</td>\n",
       "      <td>4</td>\n",
       "      <td>Left wheel</td>\n",
       "      <td>White</td>\n",
       "      <td>4</td>\n",
       "      <td>0</td>\n",
       "    </tr>\n",
       "    <tr>\n",
       "      <th>8864</th>\n",
       "      <td>917</td>\n",
       "      <td>BMW</td>\n",
       "      <td>2013</td>\n",
       "      <td>Sedan</td>\n",
       "      <td>Yes</td>\n",
       "      <td>Petrol</td>\n",
       "      <td>3.0</td>\n",
       "      <td>136000</td>\n",
       "      <td>6.0</td>\n",
       "      <td>Tiptronic</td>\n",
       "      <td>Rear</td>\n",
       "      <td>4</td>\n",
       "      <td>Left wheel</td>\n",
       "      <td>White</td>\n",
       "      <td>12</td>\n",
       "      <td>1</td>\n",
       "    </tr>\n",
       "    <tr>\n",
       "      <th>14545</th>\n",
       "      <td>308</td>\n",
       "      <td>TOYOTA</td>\n",
       "      <td>2014</td>\n",
       "      <td>Hatchback</td>\n",
       "      <td>No</td>\n",
       "      <td>Plug-in Hybrid</td>\n",
       "      <td>1.8</td>\n",
       "      <td>112000</td>\n",
       "      <td>4.0</td>\n",
       "      <td>Automatic</td>\n",
       "      <td>Front</td>\n",
       "      <td>4</td>\n",
       "      <td>Left wheel</td>\n",
       "      <td>White</td>\n",
       "      <td>12</td>\n",
       "      <td>0</td>\n",
       "    </tr>\n",
       "  </tbody>\n",
       "</table>\n",
       "<p>13917 rows × 16 columns</p>\n",
       "</div>"
      ],
      "text/plain": [
       "       Levy   Manufacturer  Prod. year   Category Leather interior  \\\n",
       "12788   878      CHEVROLET        2009      Sedan               No   \n",
       "10226  1399  MERCEDES-BENZ        2010      Sedan              Yes   \n",
       "7332    765           FORD        2015  Hatchback               No   \n",
       "4200    915           AUDI        2014  Hatchback              Yes   \n",
       "10706   418      CHEVROLET        2014  Hatchback              Yes   \n",
       "...     ...            ...         ...        ...              ...   \n",
       "13685  1292        HYUNDAI        2016      Sedan              Yes   \n",
       "18791     0           JEEP        2001       Jeep              Yes   \n",
       "6296   1185          LEXUS        2009      Sedan              Yes   \n",
       "8864    917            BMW        2013      Sedan              Yes   \n",
       "14545   308         TOYOTA        2014  Hatchback               No   \n",
       "\n",
       "            Fuel type  Engine volume  Mileage  Cylinders Gear box type  \\\n",
       "12788          Petrol            1.8    53000        4.0     Tiptronic   \n",
       "10226          Diesel            3.5   239224        6.0     Automatic   \n",
       "7332           Petrol            2.0   217600        4.0     Automatic   \n",
       "4200           Petrol            3.0   401128        6.0     Automatic   \n",
       "10706          Petrol            1.2   131312        4.0     Automatic   \n",
       "...               ...            ...      ...        ...           ...   \n",
       "13685             LPG            3.0   200000        4.0     Automatic   \n",
       "18791          Petrol            4.7   228000        8.0     Automatic   \n",
       "6296           Petrol            2.5   126715        4.0     Automatic   \n",
       "8864           Petrol            3.0   136000        6.0     Tiptronic   \n",
       "14545  Plug-in Hybrid            1.8   112000        4.0     Automatic   \n",
       "\n",
       "      Drive wheels  Doors       Wheel   Color  Airbags  Turbo  \n",
       "12788        Front      4  Left wheel    Grey       12      0  \n",
       "10226       Others      4  Left wheel   Black       12      0  \n",
       "7332         Front      4  Left wheel   White        8      0  \n",
       "4200        Others      4  Left wheel    Grey        0      0  \n",
       "10706        Front      4  Left wheel    Blue       12      0  \n",
       "...            ...    ...         ...     ...      ...    ...  \n",
       "13685        Front      4  Left wheel  Silver        4      0  \n",
       "18791       Others      4  Left wheel    Blue       10      0  \n",
       "6296         Front      4  Left wheel   White        4      0  \n",
       "8864          Rear      4  Left wheel   White       12      1  \n",
       "14545        Front      4  Left wheel   White       12      0  \n",
       "\n",
       "[13917 rows x 16 columns]"
      ]
     },
     "execution_count": 83,
     "metadata": {},
     "output_type": "execute_result"
    }
   ],
   "source": [
    "X_train"
   ]
  },
  {
   "cell_type": "markdown",
   "id": "7cd06c26",
   "metadata": {},
   "source": [
    "# Linear Regression"
   ]
  },
  {
   "cell_type": "code",
   "execution_count": 84,
   "id": "8900c2ca",
   "metadata": {},
   "outputs": [
    {
     "name": "stdout",
     "output_type": "stream",
     "text": [
      "R2 score 0.3489162744295402\n",
      "MAE 0.6238549656715188\n"
     ]
    }
   ],
   "source": [
    "lr_step1 = ColumnTransformer(transformers=[\n",
    "    ('lr_col_tnf', OneHotEncoder(sparse=False,drop='first'), [1,3,4,5,9,10,12,13]),\n",
    "    ('log_tnf', FunctionTransformer(np.log1p), [0,7])\n",
    "], remainder='passthrough')\n",
    "\n",
    "lr_step2 = LinearRegression()\n",
    "\n",
    "pipe_lr = Pipeline([\n",
    "    ('lr_step1',lr_step1),\n",
    "    ('lr_step2',lr_step2)\n",
    "])\n",
    "\n",
    "pipe_lr.fit(X_train,y_train)\n",
    "\n",
    "y_pred = pipe_lr.predict(X_test)\n",
    "\n",
    "print('R2 score',r2_score(y_test,y_pred))\n",
    "print('MAE',mean_absolute_error(y_test,y_pred))\n"
   ]
  },
  {
   "cell_type": "markdown",
   "id": "9812afcc",
   "metadata": {},
   "source": [
    "## Ridge Regression"
   ]
  },
  {
   "cell_type": "code",
   "execution_count": 87,
   "id": "c0072f21",
   "metadata": {},
   "outputs": [
    {
     "name": "stdout",
     "output_type": "stream",
     "text": [
      "R2 score 0.3316590802997388\n",
      "MAE 0.6315480708460801\n"
     ]
    },
    {
     "name": "stderr",
     "output_type": "stream",
     "text": [
      "C:\\Users\\Subhojit\\anaconda3\\lib\\site-packages\\sklearn\\linear_model\\_ridge.py:212: LinAlgWarning: Ill-conditioned matrix (rcond=2.96507e-19): result may not be accurate.\n",
      "  return linalg.solve(A, Xy, assume_a=\"pos\", overwrite_a=True).T\n"
     ]
    }
   ],
   "source": [
    "step1 = ColumnTransformer(transformers=[\n",
    "    ('col_tnf',OneHotEncoder(sparse=False,drop='first'),[1,3,4,5,9,10,12,13])\n",
    "],remainder='passthrough')\n",
    "\n",
    "step2 = Ridge(alpha=10)\n",
    "\n",
    "pipe = Pipeline([\n",
    "    ('step1',step1),\n",
    "    ('step2',step2)\n",
    "])\n",
    "\n",
    "pipe.fit(X_train,y_train)\n",
    "\n",
    "y_pred = pipe.predict(X_test)\n",
    "\n",
    "print('R2 score',r2_score(y_test,y_pred))\n",
    "print('MAE',mean_absolute_error(y_test,y_pred))"
   ]
  },
  {
   "cell_type": "markdown",
   "id": "30579789",
   "metadata": {},
   "source": [
    "## Lasso Regression"
   ]
  },
  {
   "cell_type": "code",
   "execution_count": 88,
   "id": "6187101e",
   "metadata": {},
   "outputs": [
    {
     "name": "stdout",
     "output_type": "stream",
     "text": [
      "R2 score 0.3269839141688372\n",
      "MAE 0.6329365637158816\n"
     ]
    }
   ],
   "source": [
    "step1 = ColumnTransformer(transformers=[\n",
    "    ('col_tnf',OneHotEncoder(sparse=False,drop='first'),[1,3,4,5,9,10,12,13])\n",
    "],remainder='passthrough')\n",
    "\n",
    "step2 = Lasso(alpha=0.001)\n",
    "\n",
    "pipe = Pipeline([\n",
    "    ('step1',step1),\n",
    "    ('step2',step2)\n",
    "])\n",
    "\n",
    "pipe.fit(X_train,y_train)\n",
    "\n",
    "y_pred = pipe.predict(X_test)\n",
    "\n",
    "print('R2 score',r2_score(y_test,y_pred))\n",
    "print('MAE',mean_absolute_error(y_test,y_pred))"
   ]
  },
  {
   "cell_type": "markdown",
   "id": "c38c4acd",
   "metadata": {},
   "source": [
    "## KNN"
   ]
  },
  {
   "cell_type": "code",
   "execution_count": 92,
   "id": "c425c6ec",
   "metadata": {},
   "outputs": [
    {
     "name": "stdout",
     "output_type": "stream",
     "text": [
      "R2 score 0.25310213381163704\n",
      "MAE 0.6122389444090828\n"
     ]
    }
   ],
   "source": [
    "step1 = ColumnTransformer(transformers=[\n",
    "    ('col_tnf',OneHotEncoder(sparse=False,drop='first'),[1,3,4,5,9,10,12,13])\n",
    "],remainder='passthrough')\n",
    "\n",
    "step2 = KNeighborsRegressor(n_neighbors=3)\n",
    "\n",
    "pipe = Pipeline([\n",
    "    ('step1',step1),\n",
    "    ('step2',step2)\n",
    "])\n",
    "\n",
    "pipe.fit(X_train,y_train)\n",
    "\n",
    "y_pred = pipe.predict(X_test)\n",
    "\n",
    "print('R2 score',r2_score(y_test,y_pred))\n",
    "print('MAE',mean_absolute_error(y_test,y_pred))"
   ]
  },
  {
   "cell_type": "markdown",
   "id": "15f9adcd",
   "metadata": {},
   "source": [
    "# Random Forest"
   ]
  },
  {
   "cell_type": "code",
   "execution_count": 103,
   "id": "adf3ee13",
   "metadata": {},
   "outputs": [
    {
     "name": "stdout",
     "output_type": "stream",
     "text": [
      "R2 score 0.7659478275681334\n",
      "MAE 0.3160239952825891\n"
     ]
    }
   ],
   "source": [
    "rf_step1 = ColumnTransformer(transformers=[\n",
    "    ('col_tnf',OneHotEncoder(sparse=False,drop='first',handle_unknown='ignore'),[1,3,4,5,9,10,12,13])\n",
    "],remainder='passthrough')\n",
    "\n",
    "rf_step2 = RandomForestRegressor(n_estimators=300,\n",
    "                              random_state=3,\n",
    "                              max_samples=1.0,\n",
    "                              max_features=0.75,\n",
    "                              max_depth=15)\n",
    "\n",
    "pipe_rf = Pipeline([\n",
    "    ('rf_step1',rf_step1),\n",
    "    ('rf_step2',rf_step2)\n",
    "])\n",
    "\n",
    "pipe_rf.fit(X_train,y_train)\n",
    "\n",
    "y_pred = pipe_rf.predict(X_test)\n",
    "\n",
    "print('R2 score',r2_score(y_test,y_pred))\n",
    "print('MAE',mean_absolute_error(y_test,y_pred))"
   ]
  },
  {
   "cell_type": "markdown",
   "id": "a011db63",
   "metadata": {},
   "source": [
    "# Random Forest Grid Search CV"
   ]
  },
  {
   "cell_type": "code",
   "execution_count": 100,
   "id": "c48c898f",
   "metadata": {},
   "outputs": [
    {
     "name": "stdout",
     "output_type": "stream",
     "text": [
      "Best parameter combination:  {'rf_step2__max_depth': 15, 'rf_step2__max_features': 0.75, 'rf_step2__max_samples': 1.0, 'rf_step2__n_estimators': 300}\n",
      "Best score:  0.7602748296531526\n"
     ]
    }
   ],
   "source": [
    "from sklearn.model_selection import GridSearchCV\n",
    "\n",
    "# Define the parameter grid for the pipeline\n",
    "param_grid = {\n",
    "    'rf_step2__n_estimators': [100, 200, 300],\n",
    "    'rf_step2__max_depth': [5, 10, 15],\n",
    "    'rf_step2__max_samples': [0.5, 0.75, 1.0],\n",
    "    'rf_step2__max_features': [0.5, 0.75, 1.0]\n",
    "}\n",
    "\n",
    "# Create a GridSearchCV object with the pipeline and parameter grid\n",
    "grid_rf = GridSearchCV(pipe_rf, param_grid, cv=5, n_jobs=-1)\n",
    "\n",
    "# Fit the grid search object to the training data\n",
    "grid_rf.fit(X_train, y_train)\n",
    "\n",
    "# Print the best parameter combination and corresponding score\n",
    "print(\"Best parameter combination: \", grid_rf.best_params_)\n",
    "print(\"Best score: \", grid_rf.best_score_)\n"
   ]
  },
  {
   "cell_type": "markdown",
   "id": "8ebf9c74",
   "metadata": {},
   "source": [
    "## Extra Trees"
   ]
  },
  {
   "cell_type": "code",
   "execution_count": 93,
   "id": "d0a03062",
   "metadata": {},
   "outputs": [
    {
     "name": "stdout",
     "output_type": "stream",
     "text": [
      "R2 score 0.6111468954125989\n",
      "MAE 0.4487149253073519\n"
     ]
    }
   ],
   "source": [
    "step1 = ColumnTransformer(transformers=[\n",
    "    ('col_tnf',OneHotEncoder(sparse=False,drop='first'),[1,3,4,5,9,10,12,13])\n",
    "],remainder='passthrough')\n",
    "\n",
    "step2 = ExtraTreesRegressor(n_estimators=100,\n",
    "                              random_state=3,\n",
    "                              max_samples=None,\n",
    "                              max_features=0.75,\n",
    "                              max_depth=10)\n",
    "\n",
    "pipe = Pipeline([\n",
    "    ('step1',step1),\n",
    "    ('step2',step2)\n",
    "])\n",
    "\n",
    "pipe.fit(X_train,y_train)\n",
    "\n",
    "y_pred = pipe.predict(X_test)\n",
    "\n",
    "print('R2 score',r2_score(y_test,y_pred))\n",
    "print('MAE',mean_absolute_error(y_test,y_pred))"
   ]
  },
  {
   "cell_type": "markdown",
   "id": "597d8750",
   "metadata": {},
   "source": [
    "## AdaBoost"
   ]
  },
  {
   "cell_type": "code",
   "execution_count": 94,
   "id": "3bf896cc",
   "metadata": {},
   "outputs": [
    {
     "name": "stdout",
     "output_type": "stream",
     "text": [
      "R2 score 0.39195109075853163\n",
      "MAE 0.6406683073319507\n"
     ]
    }
   ],
   "source": [
    "\n",
    "step1 = ColumnTransformer(transformers=[\n",
    "    ('col_tnf',OneHotEncoder(sparse=False,drop='first'),[1,3,4,5,9,10,12,13])\n",
    "],remainder='passthrough')\n",
    "\n",
    "step2 = AdaBoostRegressor(n_estimators=15,learning_rate=1.0)\n",
    "\n",
    "pipe = Pipeline([\n",
    "    ('step1',step1),\n",
    "    ('step2',step2)\n",
    "])\n",
    "\n",
    "pipe.fit(X_train,y_train)\n",
    "\n",
    "y_pred = pipe.predict(X_test)\n",
    "\n",
    "print('R2 score',r2_score(y_test,y_pred))\n",
    "print('MAE',mean_absolute_error(y_test,y_pred))"
   ]
  },
  {
   "cell_type": "markdown",
   "id": "1f7c8689",
   "metadata": {},
   "source": [
    "## Gradient Boost"
   ]
  },
  {
   "cell_type": "code",
   "execution_count": 96,
   "id": "452a509f",
   "metadata": {},
   "outputs": [
    {
     "name": "stdout",
     "output_type": "stream",
     "text": [
      "R2 score 0.6696921743563597\n",
      "MAE 0.40994895984729635\n"
     ]
    }
   ],
   "source": [
    "\n",
    "step1 = ColumnTransformer(transformers=[\n",
    "    ('col_tnf',OneHotEncoder(sparse=False,drop='first'),[1,3,4,5,9,10,12,13])\n",
    "],remainder='passthrough')\n",
    "\n",
    "step2 = GradientBoostingRegressor(n_estimators=500)\n",
    "\n",
    "pipe = Pipeline([\n",
    "    ('step1',step1),\n",
    "    ('step2',step2)\n",
    "])\n",
    "\n",
    "pipe.fit(X_train,y_train)\n",
    "\n",
    "y_pred = pipe.predict(X_test)\n",
    "\n",
    "print('R2 score',r2_score(y_test,y_pred))\n",
    "print('MAE',mean_absolute_error(y_test,y_pred))\n"
   ]
  },
  {
   "cell_type": "markdown",
   "id": "b1bf8cb6",
   "metadata": {},
   "source": [
    "## XgBoost"
   ]
  },
  {
   "cell_type": "code",
   "execution_count": 97,
   "id": "71c271d9",
   "metadata": {},
   "outputs": [
    {
     "name": "stdout",
     "output_type": "stream",
     "text": [
      "R2 score 0.712687804691057\n",
      "MAE 0.3797220660019847\n"
     ]
    }
   ],
   "source": [
    "\n",
    "step1 = ColumnTransformer(transformers=[\n",
    "    ('col_tnf',OneHotEncoder(sparse=False,drop='first'),[1,3,4,5,9,10,12,13])\n",
    "],remainder='passthrough')\n",
    "\n",
    "step2 = XGBRegressor(n_estimators=45,max_depth=5,learning_rate=0.5)\n",
    "\n",
    "pipe = Pipeline([\n",
    "    ('step1',step1),\n",
    "    ('step2',step2)\n",
    "])\n",
    "\n",
    "pipe.fit(X_train,y_train)\n",
    "\n",
    "y_pred = pipe.predict(X_test)\n",
    "\n",
    "print('R2 score',r2_score(y_test,y_pred))\n",
    "print('MAE',mean_absolute_error(y_test,y_pred))"
   ]
  },
  {
   "cell_type": "markdown",
   "id": "38fb967c",
   "metadata": {},
   "source": [
    "## Voting Regressor"
   ]
  },
  {
   "cell_type": "code",
   "execution_count": 98,
   "id": "8f47bb5e",
   "metadata": {},
   "outputs": [
    {
     "name": "stdout",
     "output_type": "stream",
     "text": [
      "R2 score 0.7311125285559448\n",
      "MAE 0.36008963864255755\n"
     ]
    }
   ],
   "source": [
    "from sklearn.ensemble import VotingRegressor,StackingRegressor\n",
    "\n",
    "step1 = ColumnTransformer(transformers=[\n",
    "    ('col_tnf',OneHotEncoder(sparse=False,drop='first'),[1,3,4,5,9,10,12,13])\n",
    "],remainder='passthrough')\n",
    "\n",
    "\n",
    "rf = RandomForestRegressor(n_estimators=350,random_state=3,max_samples=0.5,max_features=0.75,max_depth=15)\n",
    "gbdt = GradientBoostingRegressor(n_estimators=100,max_features=0.5)\n",
    "xgb = XGBRegressor(n_estimators=25,learning_rate=0.3,max_depth=5)\n",
    "et = ExtraTreesRegressor(n_estimators=100,random_state=3,max_samples=None,max_features=0.75,max_depth=10)\n",
    "\n",
    "step2 = VotingRegressor([('rf', rf), ('gbdt', gbdt), ('xgb',xgb), ('et',et)],weights=[5,1,1,1])\n",
    "\n",
    "pipe = Pipeline([\n",
    "    ('step1',step1),\n",
    "    ('step2',step2)\n",
    "])\n",
    "\n",
    "pipe.fit(X_train,y_train)\n",
    "\n",
    "y_pred = pipe.predict(X_test)\n",
    "\n",
    "print('R2 score',r2_score(y_test,y_pred))\n",
    "print('MAE',mean_absolute_error(y_test,y_pred))"
   ]
  },
  {
   "cell_type": "markdown",
   "id": "95e792f6",
   "metadata": {},
   "source": [
    "# Stacking"
   ]
  },
  {
   "cell_type": "code",
   "execution_count": 95,
   "id": "07219347",
   "metadata": {},
   "outputs": [
    {
     "name": "stdout",
     "output_type": "stream",
     "text": [
      "R2 score 0.7818553342729476\n",
      "MAE 0.28746887151070594\n"
     ]
    }
   ],
   "source": [
    "from sklearn.ensemble import VotingRegressor,StackingRegressor\n",
    "\n",
    "st_step1 = ColumnTransformer(transformers=[\n",
    "    ('col_tnf',OneHotEncoder(sparse=False,drop='first'),[1,3,4,5,9,10,12,13])\n",
    "],remainder='passthrough')\n",
    "\n",
    "\n",
    "estimators = [\n",
    "    ('rf', RandomForestRegressor(n_estimators=300,random_state=3,max_samples=1.0,max_features=0.75,max_depth=15)),\n",
    "    ('gbdt',GradientBoostingRegressor(n_estimators=100,max_features=0.5)),\n",
    "    ('xgb', XGBRegressor(n_estimators=200,learning_rate=0.3,max_depth=20))\n",
    "]\n",
    "\n",
    "st_step2 = StackingRegressor(estimators=estimators, final_estimator=Ridge(alpha=10))\n",
    "\n",
    "pipe_st = Pipeline([\n",
    "    ('st_step1',st_step1),\n",
    "    ('st_step2',st_step2)\n",
    "])\n",
    "\n",
    "pipe_st.fit(X_train,y_train)\n",
    "\n",
    "y_pred = pipe_st.predict(X_test)\n",
    "\n",
    "print('R2 score',r2_score(y_test,y_pred))\n",
    "print('MAE',mean_absolute_error(y_test,y_pred))"
   ]
  },
  {
   "cell_type": "markdown",
   "id": "ed0486f7",
   "metadata": {},
   "source": [
    "## Insights"
   ]
  },
  {
   "cell_type": "markdown",
   "id": "2764e4a6",
   "metadata": {},
   "source": [
    "- Ensemble techniques Such as Boosting and Stacking is giving better results here\n",
    "- Performing GridSearch with Random Forest has improved prediction results"
   ]
  },
  {
   "cell_type": "markdown",
   "id": "51118420",
   "metadata": {},
   "source": [
    "### Random Forest Model feature importance "
   ]
  },
  {
   "cell_type": "code",
   "execution_count": 105,
   "id": "e7514009",
   "metadata": {},
   "outputs": [],
   "source": [
    "feat_importance = pipe_rf.named_steps['rf_step2'].feature_importances_"
   ]
  },
  {
   "cell_type": "markdown",
   "id": "58ea5eae",
   "metadata": {},
   "source": [
    "### Get list of column names"
   ]
  },
  {
   "cell_type": "code",
   "execution_count": 106,
   "id": "5040d404",
   "metadata": {},
   "outputs": [],
   "source": [
    "col_names = pipe_rf.named_steps['rf_step1'].get_feature_names_out(input_features=X_train.columns)"
   ]
  },
  {
   "cell_type": "code",
   "execution_count": 108,
   "id": "41abcc34",
   "metadata": {},
   "outputs": [
    {
     "data": {
      "text/html": [
       "<div>\n",
       "<style scoped>\n",
       "    .dataframe tbody tr th:only-of-type {\n",
       "        vertical-align: middle;\n",
       "    }\n",
       "\n",
       "    .dataframe tbody tr th {\n",
       "        vertical-align: top;\n",
       "    }\n",
       "\n",
       "    .dataframe thead th {\n",
       "        text-align: right;\n",
       "    }\n",
       "</style>\n",
       "<table border=\"1\" class=\"dataframe\">\n",
       "  <thead>\n",
       "    <tr style=\"text-align: right;\">\n",
       "      <th></th>\n",
       "      <th>feature</th>\n",
       "      <th>importance</th>\n",
       "    </tr>\n",
       "  </thead>\n",
       "  <tbody>\n",
       "    <tr>\n",
       "      <th>65</th>\n",
       "      <td>remainder__Airbags</td>\n",
       "      <td>0.184098</td>\n",
       "    </tr>\n",
       "    <tr>\n",
       "      <th>60</th>\n",
       "      <td>remainder__Prod. year</td>\n",
       "      <td>0.157985</td>\n",
       "    </tr>\n",
       "    <tr>\n",
       "      <th>62</th>\n",
       "      <td>remainder__Mileage</td>\n",
       "      <td>0.114125</td>\n",
       "    </tr>\n",
       "    <tr>\n",
       "      <th>59</th>\n",
       "      <td>remainder__Levy</td>\n",
       "      <td>0.112907</td>\n",
       "    </tr>\n",
       "    <tr>\n",
       "      <th>46</th>\n",
       "      <td>col_tnf__Gear box type_Tiptronic</td>\n",
       "      <td>0.110745</td>\n",
       "    </tr>\n",
       "    <tr>\n",
       "      <th>61</th>\n",
       "      <td>remainder__Engine volume</td>\n",
       "      <td>0.063550</td>\n",
       "    </tr>\n",
       "    <tr>\n",
       "      <th>39</th>\n",
       "      <td>col_tnf__Leather interior_Yes</td>\n",
       "      <td>0.036052</td>\n",
       "    </tr>\n",
       "    <tr>\n",
       "      <th>66</th>\n",
       "      <td>remainder__Turbo</td>\n",
       "      <td>0.022687</td>\n",
       "    </tr>\n",
       "    <tr>\n",
       "      <th>32</th>\n",
       "      <td>col_tnf__Category_Jeep</td>\n",
       "      <td>0.020980</td>\n",
       "    </tr>\n",
       "    <tr>\n",
       "      <th>26</th>\n",
       "      <td>col_tnf__Manufacturer_TOYOTA</td>\n",
       "      <td>0.013345</td>\n",
       "    </tr>\n",
       "  </tbody>\n",
       "</table>\n",
       "</div>"
      ],
      "text/plain": [
       "                             feature  importance\n",
       "65                remainder__Airbags    0.184098\n",
       "60             remainder__Prod. year    0.157985\n",
       "62                remainder__Mileage    0.114125\n",
       "59                   remainder__Levy    0.112907\n",
       "46  col_tnf__Gear box type_Tiptronic    0.110745\n",
       "61          remainder__Engine volume    0.063550\n",
       "39     col_tnf__Leather interior_Yes    0.036052\n",
       "66                  remainder__Turbo    0.022687\n",
       "32            col_tnf__Category_Jeep    0.020980\n",
       "26      col_tnf__Manufacturer_TOYOTA    0.013345"
      ]
     },
     "execution_count": 108,
     "metadata": {},
     "output_type": "execute_result"
    }
   ],
   "source": [
    "# Create a DataFrame to store feature importance and column names\n",
    "feat_imp_df = pd.DataFrame({'feature': col_names, 'importance': feat_importance})\n",
    "\n",
    "# Sort the DataFrame by feature importance in descending order\n",
    "feat_imp_df = feat_imp_df.sort_values('importance', ascending=False)\n",
    "\n",
    "# Top 10 features and their importance scores\n",
    "feat_imp_df.head(10)"
   ]
  },
  {
   "cell_type": "code",
   "execution_count": 110,
   "id": "6500a929",
   "metadata": {},
   "outputs": [
    {
     "data": {
      "image/png": "[encoded data removed]",
      "text/plain": [
       "<Figure size 1152x576 with 1 Axes>"
      ]
     },
     "metadata": {
      "needs_background": "light"
     },
     "output_type": "display_data"
    }
   ],
   "source": [
    "# Plot the feature importances\n",
    "plt.figure(figsize=(16,8))\n",
    "sns.barplot(x='importance', y='feature', data=feat_imp_df.head(20))\n",
    "plt.title('Feature Importances')\n",
    "plt.xlabel('Importance Score')\n",
    "plt.ylabel('Feature Name')\n",
    "plt.show()"
   ]
  },
  {
   "cell_type": "markdown",
   "id": "b975959f",
   "metadata": {},
   "source": [
    "# Exporting the Model as pickle file"
   ]
  },
  {
   "cell_type": "code",
   "execution_count": 111,
   "id": "f6433d5b",
   "metadata": {},
   "outputs": [],
   "source": [
    "import pickle"
   ]
  },
  {
   "cell_type": "code",
   "execution_count": 112,
   "id": "c103db6d",
   "metadata": {},
   "outputs": [],
   "source": [
    "#pickle.dump(pipe_rf,open('new car pipe.pkl','wb'))"
   ]
  },
  {
   "cell_type": "code",
   "execution_count": 113,
   "id": "c1232f0d",
   "metadata": {},
   "outputs": [],
   "source": [
    "#pickle.dump(X_train,open('new car df.pkl', 'wb'))"
   ]
  },
  {
   "cell_type": "code",
   "execution_count": null,
   "id": "b24169f5",
   "metadata": {},
   "outputs": [],
   "source": []
  }
 ],
 "metadata": {
  "kernelspec": {
   "display_name": "Python 3 (ipykernel)",
   "language": "python",
   "name": "python3"
  },
  "language_info": {
   "codemirror_mode": {
    "name": "ipython",
    "version": 3
   },
   "file_extension": ".py",
   "mimetype": "text/x-python",
   "name": "python",
   "nbconvert_exporter": "python",
   "pygments_lexer": "ipython3",
   "version": "3.9.12"
  }
 },
 "nbformat": 4,
 "nbformat_minor": 5
}
